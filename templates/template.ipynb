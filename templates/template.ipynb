{
 "cells": [
  {
   "cell_type": "code",
   "execution_count": 5,
   "metadata": {},
   "outputs": [],
   "source": [
    "import sys\n",
    "import os\n",
    "from pprint import pprint\n",
    "\n",
    "sys.path.append(os.path.abspath(os.path.join(os.getcwd(), \"..\")))\n",
    "\n",
    "from config_models import LoadConfigurations, ServiceType\n",
    "\n",
    "from documents.service import DocumentOperations"
   ]
  },
  {
   "cell_type": "markdown",
   "metadata": {},
   "source": [
    "TODO: Add the correct path below"
   ]
  },
  {
   "cell_type": "code",
   "execution_count": 6,
   "metadata": {},
   "outputs": [],
   "source": [
    "ENV_FILE_PATH = \"../.env\"\n",
    "DOCUMENT_PATH = \"../AAPL_10Q.pdf\""
   ]
  },
  {
   "cell_type": "markdown",
   "metadata": {},
   "source": [
    "### Uploading document"
   ]
  },
  {
   "cell_type": "code",
   "execution_count": 7,
   "metadata": {},
   "outputs": [
    {
     "name": "stderr",
     "output_type": "stream",
     "text": [
      "\u001b[32m2024-10-03 01:56:54.893\u001b[0m | \u001b[1mINFO    \u001b[0m | \u001b[36mconfig_models\u001b[0m:\u001b[36mset_config\u001b[0m:\u001b[36m100\u001b[0m - \u001b[1mConfig set.\u001b[0m\n"
     ]
    },
    {
     "name": "stdout",
     "output_type": "stream",
     "text": [
      "Uploading document AAPL_10Q.pdf\n",
      "Uploaded document!\n"
     ]
    }
   ],
   "source": [
    "document_configs = LoadConfigurations(env_file_path=ENV_FILE_PATH).set_config(service=ServiceType.DOCUMENT)\n",
    "document_operation = DocumentOperations(configs=document_configs)\n",
    "\n",
    "print(f\"Uploading document {DOCUMENT_PATH.split('/')[-1]}\")\n",
    "\n",
    "document_create_response = document_operation.create_document(file_path=DOCUMENT_PATH)\n",
    "\n",
    "print(\"Uploaded document!\")"
   ]
  },
  {
   "cell_type": "code",
   "execution_count": 8,
   "metadata": {},
   "outputs": [
    {
     "name": "stdout",
     "output_type": "stream",
     "text": [
      "Document ID: 66fe5c58b1d0dfb13c9975f3\n"
     ]
    }
   ],
   "source": [
    "document_id = document_create_response.id\n",
    "print(f\"Document ID: {document_id}\")"
   ]
  },
  {
   "cell_type": "markdown",
   "metadata": {},
   "source": [
    "### Get information about the document"
   ]
  },
  {
   "cell_type": "code",
   "execution_count": 31,
   "metadata": {},
   "outputs": [
    {
     "name": "stdout",
     "output_type": "stream",
     "text": [
      "Fetched document\n",
      "{'ai_tags': [],\n",
      " 'category': 'UNITED STATES SECURITIES AND EXCHANGE COMMISSION',\n",
      " 'created_at': datetime.datetime(2024, 10, 3, 8, 56, 56, tzinfo=TzInfo(UTC)),\n",
      " 'download_url': '/doc-proc-service/local_store/google-oauth2|117349365869611297391/66fe5c58b1d0dfb13c9975f3/66fe5c58b1d0dfb13c9975f3',\n",
      " 'file_name': 'AAPL_10Q.pdf',\n",
      " 'form_instances': None,\n",
      " 'id': '66fe5c58b1d0dfb13c9975f3',\n",
      " 'in_folders': [],\n",
      " 'media_type': 'application/pdf',\n",
      " 'pages': [],\n",
      " 'redacted_summary': '',\n",
      " 'size': 654929,\n",
      " 'source': 'application',\n",
      " 'status': 'PROCESSING',\n",
      " 'step_status': {'FORM_EXTRACTION': {'error': None,\n",
      "                                     'modified_at': datetime.datetime(2024, 10, 3, 9, 26, 37, tzinfo=TzInfo(UTC)),\n",
      "                                     'response': {'_id': '66fe6295eb87303bc52bbac7',\n",
      "                                                  'category': '',\n",
      "                                                  'created_at': '2024-10-03T09:23:33Z',\n",
      "                                                  'description': 'Apple form '\n",
      "                                                                 'definition 2',\n",
      "                                                  'fields': [{'description': 'Net '\n",
      "                                                                             'Sales '\n",
      "                                                                             'for '\n",
      "                                                                             'the '\n",
      "                                                                             'quarter',\n",
      "                                                              'field_type': 'Number',\n",
      "                                                              'fill_by_search': False,\n",
      "                                                              'identifier': 'bf0aa18f-480a-47f1-ba78-a9c4d9e895a5',\n",
      "                                                              'is_array': True,\n",
      "                                                              'name': 'Total '\n",
      "                                                                      'Sales',\n",
      "                                                              'value': ['81797',\n",
      "                                                                        '293787',\n",
      "                                                                        '19881',\n",
      "                                                                        '19442',\n",
      "                                                                        '74839',\n",
      "                                                                        '74039',\n",
      "                                                                        '19881',\n",
      "                                                                        '19442',\n",
      "                                                                        '74039',\n",
      "                                                                        '79082',\n",
      "                                                                        '81797',\n",
      "                                                                        '293787',\n",
      "                                                                        '169109',\n",
      "                                                                        '-265',\n",
      "                                                                        '-594',\n",
      "                                                                        '-5971',\n",
      "                                                                        '4970',\n",
      "                                                                        '35,829',\n",
      "                                                                        '35383',\n",
      "                                                                        '20205',\n",
      "                                                                        '15758',\n",
      "                                                                        '4821',\n",
      "                                                                        '5630',\n",
      "                                                                        '-1.2',\n",
      "                                                                        '81797',\n",
      "                                                                        '81797',\n",
      "                                                                        '36413',\n",
      "                                                                        '128721',\n",
      "                                                                        '94569'],\n",
      "                                                              'weav_page_number': [3,\n",
      "                                                                                   3,\n",
      "                                                                                   4,\n",
      "                                                                                   4,\n",
      "                                                                                   6,\n",
      "                                                                                   7,\n",
      "                                                                                   8,\n",
      "                                                                                   8,\n",
      "                                                                                   8,\n",
      "                                                                                   8,\n",
      "                                                                                   9,\n",
      "                                                                                   9,\n",
      "                                                                                   10,\n",
      "                                                                                   12,\n",
      "                                                                                   12,\n",
      "                                                                                   13,\n",
      "                                                                                   13,\n",
      "                                                                                   14,\n",
      "                                                                                   15,\n",
      "                                                                                   15,\n",
      "                                                                                   15,\n",
      "                                                                                   15,\n",
      "                                                                                   15,\n",
      "                                                                                   16,\n",
      "                                                                                   17,\n",
      "                                                                                   18,\n",
      "                                                                                   19,\n",
      "                                                                                   19,\n",
      "                                                                                   23]}],\n",
      "                                                  'form_id': '66fe6295eb87303bc52bbac7',\n",
      "                                                  'is_searchable': True,\n",
      "                                                  'is_shared': True,\n",
      "                                                  'name': 'APPLE FORM '\n",
      "                                                          'DEFINITION 2',\n",
      "                                                  'user_id': 'google-oauth2|117349365869611297391'},\n",
      "                                     'status': 'DONE'}},\n",
      " 'summary': '',\n",
      " 'summary_status': '',\n",
      " 'tags': [],\n",
      " 'tenant_id': '',\n",
      " 'user_id': 'google-oauth2|117349365869611297391'}\n",
      "UNITED STATES SECURITIES AND EXCHANGE COMMISSION\n"
     ]
    }
   ],
   "source": [
    "get_document_response = document_operation.get_document(document_id=document_id)\n",
    "\n",
    "print(\"Fetched document\")\n",
    "\n",
    "pprint(get_document_response.model_dump())\n",
    "\n",
    "document_category = get_document_response.category\n",
    "\n",
    "print(document_category)"
   ]
  },
  {
   "cell_type": "markdown",
   "metadata": {},
   "source": [
    "## Workflow management"
   ]
  },
  {
   "cell_type": "markdown",
   "metadata": {},
   "source": [
    "### 1. Getting all workflows"
   ]
  },
  {
   "cell_type": "code",
   "execution_count": 10,
   "metadata": {},
   "outputs": [
    {
     "name": "stderr",
     "output_type": "stream",
     "text": [
      "\u001b[32m2024-10-03 01:57:02.866\u001b[0m | \u001b[1mINFO    \u001b[0m | \u001b[36mconfig_models\u001b[0m:\u001b[36mset_config\u001b[0m:\u001b[36m100\u001b[0m - \u001b[1mConfig set.\u001b[0m\n"
     ]
    },
    {
     "name": "stdout",
     "output_type": "stream",
     "text": [
      "GETTING ALL WORKFLOWS\n",
      "['dagtasktest',\n",
      " 'dagtest',\n",
      " 'download_from_connector',\n",
      " 'extract_form_and_compliance',\n",
      " 'process_brain_document',\n",
      " 'process_compliance_exclude_entity',\n",
      " 'process_custom_queries',\n",
      " 'process_document',\n",
      " 'process_document_create_decision_tree',\n",
      " 'process_document_multi_forms',\n",
      " 'process_document_sensors',\n",
      " 'process_document_summary_compliance',\n",
      " 'process_document_summary_generation',\n",
      " 'process_document_tabular_data',\n",
      " 'process_form_data_cleanup',\n",
      " 'process_form_workflow',\n",
      " 'run_agent']\n"
     ]
    }
   ],
   "source": [
    "from workflows.service import WorkflowService\n",
    "from workflows.models import WorkflowRequest\n",
    "\n",
    "\n",
    "workflow_configs = LoadConfigurations(env_file_path=ENV_FILE_PATH).set_config(service=ServiceType.WORKFLOWS)\n",
    "workflow_operation = WorkflowService(configs=workflow_configs)\n",
    "\n",
    "print(\"GETTING ALL WORKFLOWS\")\n",
    "\n",
    "workflow_response = workflow_operation.get_all_workflows()\n",
    "\n",
    "workflows = [workflow.name for workflow in workflow_response.workflows]\n",
    "\n",
    "pprint(workflows)"
   ]
  },
  {
   "cell_type": "markdown",
   "metadata": {},
   "source": [
    "### 2. Running specific workflows"
   ]
  },
  {
   "cell_type": "markdown",
   "metadata": {},
   "source": [
    "#### Process document workflow"
   ]
  },
  {
   "cell_type": "code",
   "execution_count": 30,
   "metadata": {},
   "outputs": [
    {
     "name": "stdout",
     "output_type": "stream",
     "text": [
      "RUNNING 'process_document' WORKFLOW\n",
      "{'created_at': '2024-10-03T09:29:34.000000+00:00',\n",
      " 'document_id': '66fe5c58b1d0dfb13c9975f3',\n",
      " 'document_name': 'AAPL_10Q.pdf',\n",
      " 'end_date': None,\n",
      " 'in_folders': [],\n",
      " 'run_id': '66fe5c58b1d0dfb13c9975f3_c163fcea-d479-4b36-a8a4-ad82ba5268fe',\n",
      " 'start_date': None,\n",
      " 'state': None,\n",
      " 'workflow_id': 'process_document'}\n",
      "RUN ID: 66fe5c58b1d0dfb13c9975f3_c163fcea-d479-4b36-a8a4-ad82ba5268fe\n"
     ]
    }
   ],
   "source": [
    "print(\"RUNNING 'process_document' WORKFLOW\")\n",
    "\n",
    "running_workflow_data = WorkflowRequest(doc_id=document_id, data={})\n",
    "\n",
    "process_document_response = workflow_operation.run_workflow(\n",
    "    workflow_name=\"process_document\", data=running_workflow_data\n",
    ")\n",
    "\n",
    "pprint(process_document_response.model_dump())\n",
    "\n",
    "print(f\"RUN ID: {process_document_response.run_id}\")"
   ]
  },
  {
   "cell_type": "markdown",
   "metadata": {},
   "source": [
    "#### The cell below utilizes the get workflow status API to check if the workflow has completed."
   ]
  },
  {
   "cell_type": "code",
   "execution_count": 17,
   "metadata": {},
   "outputs": [
    {
     "name": "stdout",
     "output_type": "stream",
     "text": [
      "Processing status: success\n",
      "{'document_id': '66fe5c58b1d0dfb13c9975f3',\n",
      " 'end_date': datetime.datetime(2024, 10, 3, 9, 8, 23, 126762, tzinfo=TzInfo(UTC)),\n",
      " 'start_date': datetime.datetime(2024, 10, 3, 8, 58, 42, 785002, tzinfo=TzInfo(UTC)),\n",
      " 'status': 'success',\n",
      " 'tasks': [{'end_date': datetime.datetime(2024, 10, 3, 9, 6, 24, 898440, tzinfo=TzInfo(UTC)),\n",
      "            'failed_task_ids': [],\n",
      "            'name': 'form_extraction',\n",
      "            'start_date': datetime.datetime(2024, 10, 3, 9, 6, 12, 275298, tzinfo=TzInfo(UTC)),\n",
      "            'status': 'success',\n",
      "            'task_status_summary': {'failed': 0,\n",
      "                                    'queued': 0,\n",
      "                                    'running': 0,\n",
      "                                    'skipped': 0,\n",
      "                                    'success': 1}},\n",
      "           {'end_date': datetime.datetime(2024, 10, 3, 9, 5, 36, 890536, tzinfo=TzInfo(UTC)),\n",
      "            'failed_task_ids': [],\n",
      "            'name': 'vectorize_page',\n",
      "            'start_date': datetime.datetime(2024, 10, 3, 9, 3, 57, 964215, tzinfo=TzInfo(UTC)),\n",
      "            'status': 'success',\n",
      "            'task_status_summary': {'failed': 0,\n",
      "                                    'queued': 0,\n",
      "                                    'running': 0,\n",
      "                                    'skipped': 0,\n",
      "                                    'success': 25}},\n",
      "           {'end_date': datetime.datetime(2024, 10, 3, 9, 3, 4, 27725, tzinfo=TzInfo(UTC)),\n",
      "            'failed_task_ids': [],\n",
      "            'name': 'classify_page',\n",
      "            'start_date': datetime.datetime(2024, 10, 3, 9, 2, 0, 631495, tzinfo=TzInfo(UTC)),\n",
      "            'status': 'success',\n",
      "            'task_status_summary': {'failed': 0,\n",
      "                                    'queued': 0,\n",
      "                                    'running': 0,\n",
      "                                    'skipped': 0,\n",
      "                                    'success': 25}},\n",
      "           {'end_date': datetime.datetime(2024, 10, 3, 9, 1, 33, 366685, tzinfo=TzInfo(UTC)),\n",
      "            'failed_task_ids': [],\n",
      "            'name': 'ocr_page',\n",
      "            'start_date': datetime.datetime(2024, 10, 3, 9, 0, 50, 431193, tzinfo=TzInfo(UTC)),\n",
      "            'status': 'success',\n",
      "            'task_status_summary': {'failed': 0,\n",
      "                                    'queued': 0,\n",
      "                                    'running': 0,\n",
      "                                    'skipped': 0,\n",
      "                                    'success': 25}},\n",
      "           {'end_date': datetime.datetime(2024, 10, 3, 9, 8, 21, 697362, tzinfo=TzInfo(UTC)),\n",
      "            'failed_task_ids': [],\n",
      "            'name': 'run_next_workflow',\n",
      "            'start_date': datetime.datetime(2024, 10, 3, 9, 8, 10, 803987, tzinfo=TzInfo(UTC)),\n",
      "            'status': 'skipped',\n",
      "            'task_status_summary': {'failed': 0,\n",
      "                                    'queued': 0,\n",
      "                                    'running': 0,\n",
      "                                    'skipped': 1,\n",
      "                                    'success': 0}},\n",
      "           {'end_date': datetime.datetime(2024, 10, 3, 9, 4, 2, 466423, tzinfo=TzInfo(UTC)),\n",
      "            'failed_task_ids': [],\n",
      "            'name': 'entity_extraction_page',\n",
      "            'start_date': datetime.datetime(2024, 10, 3, 9, 3, 3, 700488, tzinfo=TzInfo(UTC)),\n",
      "            'status': 'skipped',\n",
      "            'task_status_summary': {'failed': 0,\n",
      "                                    'queued': 0,\n",
      "                                    'running': 0,\n",
      "                                    'skipped': 25,\n",
      "                                    'success': 0}}]}\n"
     ]
    }
   ],
   "source": [
    "import time\n",
    "import random\n",
    "\n",
    "finished = False\n",
    "\n",
    "while not finished:\n",
    "    time.sleep(random.randint(5,10))\n",
    "    workflow_status_response = workflow_operation.get_workflow_status(\n",
    "        show_internal_steps=False,\n",
    "        workflow_id=process_document_response.workflow_id,\n",
    "        workflow_run_id=process_document_response.run_id,\n",
    "    )\n",
    "    current_status = workflow_status_response.status\n",
    "    print(f\"Processing status: {current_status}\")\n",
    "    if current_status in ['success','failed']:\n",
    "        finished = True\n",
    "\n",
    "pprint(workflow_status_response.model_dump())"
   ]
  },
  {
   "cell_type": "markdown",
   "metadata": {},
   "source": [
    "##### Form processing can be run only after `process_document` workflow has finished"
   ]
  },
  {
   "cell_type": "markdown",
   "metadata": {},
   "source": [
    "##### First we need to create a form definition to be able to run form extraction"
   ]
  },
  {
   "cell_type": "code",
   "execution_count": 19,
   "metadata": {},
   "outputs": [
    {
     "name": "stderr",
     "output_type": "stream",
     "text": [
      "\u001b[32m2024-10-03 02:23:32.797\u001b[0m | \u001b[1mINFO    \u001b[0m | \u001b[36mconfig_models\u001b[0m:\u001b[36mset_config\u001b[0m:\u001b[36m100\u001b[0m - \u001b[1mConfig set.\u001b[0m\n"
     ]
    }
   ],
   "source": [
    "from documents.service import FormOperations\n",
    "from documents.models import CreateFormRequest\n",
    "\n",
    "configs = LoadConfigurations(env_file_path=ENV_FILE_PATH).set_config(service=ServiceType.DOCUMENT)\n",
    "form_operation = FormOperations(configs=configs)\n",
    "fields_data =  [\n",
    "    {\n",
    "      \"name\": \"Total Sales\",\n",
    "      \"field_type\": \"Number\",\n",
    "      \"description\": \"Net Sales for the quarter\",\n",
    "      \"is_array\": True,\n",
    "      \"fill_by_search\": False\n",
    "    }\n",
    "  ]\n",
    "body = CreateFormRequest(\n",
    "    name=\"APPLE FORM DEFINITION 2\",\n",
    "    description=\"Apple form definition 2\",\n",
    "    category=document_category,\n",
    "    fields=fields_data,\n",
    "    is_shared=True,\n",
    "    is_searchable=True\n",
    ")\n",
    "form_create_response = form_operation.create_form(form_data=body)"
   ]
  },
  {
   "cell_type": "code",
   "execution_count": 23,
   "metadata": {},
   "outputs": [
    {
     "name": "stdout",
     "output_type": "stream",
     "text": [
      "Form ID: 66fe6295eb87303bc52bbac7\n"
     ]
    }
   ],
   "source": [
    "print(f\"Form ID: {form_create_response.id}\")\n",
    "\n",
    "form_id = form_create_response.id"
   ]
  },
  {
   "cell_type": "markdown",
   "metadata": {},
   "source": [
    "#### Process form workflow"
   ]
  },
  {
   "cell_type": "code",
   "execution_count": 24,
   "metadata": {},
   "outputs": [
    {
     "name": "stdout",
     "output_type": "stream",
     "text": [
      "RUNNING 'process_form_workflow' WORKFLOW\n",
      "{'created_at': '2024-10-03T09:25:46.000000+00:00',\n",
      " 'document_id': '66fe5c58b1d0dfb13c9975f3',\n",
      " 'document_name': 'AAPL_10Q.pdf',\n",
      " 'end_date': None,\n",
      " 'in_folders': [],\n",
      " 'run_id': '66fe5c58b1d0dfb13c9975f3_833c2300-7fbe-42e4-8e6b-7b885fa80a07',\n",
      " 'start_date': None,\n",
      " 'state': None,\n",
      " 'workflow_id': 'process_form_workflow'}\n",
      "FORM EXTRACTION RUN ID: 66fe5c58b1d0dfb13c9975f3_833c2300-7fbe-42e4-8e6b-7b885fa80a07\n"
     ]
    }
   ],
   "source": [
    "print(\"RUNNING 'process_form_workflow' WORKFLOW\")\n",
    "\n",
    "running_workflow_data = WorkflowRequest(doc_id=document_id, data={\"form_id\":form_id})\n",
    "\n",
    "process_form_response = workflow_operation.run_workflow(\n",
    "    workflow_name=\"process_form_workflow\", data=running_workflow_data\n",
    ")\n",
    "\n",
    "pprint(process_form_response.model_dump())\n",
    "\n",
    "print(f\"FORM EXTRACTION RUN ID: {process_form_response.run_id}\")\n",
    "\n",
    "workflow_id = process_form_response.workflow_id\n",
    "run_id = process_form_response.run_id"
   ]
  },
  {
   "cell_type": "markdown",
   "metadata": {},
   "source": [
    "\n",
    "### Get workflow status"
   ]
  },
  {
   "cell_type": "code",
   "execution_count": 25,
   "metadata": {},
   "outputs": [
    {
     "name": "stdout",
     "output_type": "stream",
     "text": [
      "Processing status: success\n",
      "{'document_id': '66fe5c58b1d0dfb13c9975f3',\n",
      " 'end_date': datetime.datetime(2024, 10, 3, 9, 26, 42, 419716, tzinfo=TzInfo(UTC)),\n",
      " 'start_date': datetime.datetime(2024, 10, 3, 9, 25, 46, 190941, tzinfo=TzInfo(UTC)),\n",
      " 'status': 'success',\n",
      " 'tasks': [{'end_date': datetime.datetime(2024, 10, 3, 9, 26, 35, 407564, tzinfo=TzInfo(UTC)),\n",
      "            'failed_task_ids': [],\n",
      "            'name': 'extract_form_values_normal',\n",
      "            'start_date': datetime.datetime(2024, 10, 3, 9, 26, 16, 324496, tzinfo=TzInfo(UTC)),\n",
      "            'status': 'success',\n",
      "            'task_status_summary': {'failed': 0,\n",
      "                                    'queued': 0,\n",
      "                                    'running': 0,\n",
      "                                    'skipped': 0,\n",
      "                                    'success': 1}},\n",
      "           {'end_date': datetime.datetime(2024, 10, 3, 9, 25, 48, 124827, tzinfo=TzInfo(UTC)),\n",
      "            'failed_task_ids': [],\n",
      "            'name': 'set_processing_to_in_state',\n",
      "            'start_date': datetime.datetime(2024, 10, 3, 9, 25, 47, 502817, tzinfo=TzInfo(UTC)),\n",
      "            'status': 'success',\n",
      "            'task_status_summary': {'failed': 0,\n",
      "                                    'queued': 0,\n",
      "                                    'running': 0,\n",
      "                                    'skipped': 0,\n",
      "                                    'success': 1}},\n",
      "           {'end_date': datetime.datetime(2024, 10, 3, 9, 26, 38, 228682, tzinfo=TzInfo(UTC)),\n",
      "            'failed_task_ids': [],\n",
      "            'name': 'set_processing_to_failed_state',\n",
      "            'start_date': datetime.datetime(2024, 10, 3, 9, 26, 38, 228682, tzinfo=TzInfo(UTC)),\n",
      "            'status': 'skipped',\n",
      "            'task_status_summary': {'failed': 0,\n",
      "                                    'queued': 0,\n",
      "                                    'running': 0,\n",
      "                                    'skipped': 1,\n",
      "                                    'success': 0}},\n",
      "           {'end_date': datetime.datetime(2024, 10, 3, 9, 25, 50, 312581, tzinfo=TzInfo(UTC)),\n",
      "            'failed_task_ids': [],\n",
      "            'name': 'extract_by_search',\n",
      "            'start_date': datetime.datetime(2024, 10, 3, 9, 25, 49, 802197, tzinfo=TzInfo(UTC)),\n",
      "            'status': 'success',\n",
      "            'task_status_summary': {'failed': 0,\n",
      "                                    'queued': 0,\n",
      "                                    'running': 0,\n",
      "                                    'skipped': 0,\n",
      "                                    'success': 1}},\n",
      "           {'end_date': datetime.datetime(2024, 10, 3, 9, 25, 48, 114378, tzinfo=TzInfo(UTC)),\n",
      "            'failed_task_ids': [],\n",
      "            'name': 'get_document',\n",
      "            'start_date': datetime.datetime(2024, 10, 3, 9, 25, 47, 380406, tzinfo=TzInfo(UTC)),\n",
      "            'status': 'success',\n",
      "            'task_status_summary': {'failed': 0,\n",
      "                                    'queued': 0,\n",
      "                                    'running': 0,\n",
      "                                    'skipped': 0,\n",
      "                                    'success': 1}},\n",
      "           {'end_date': datetime.datetime(2024, 10, 3, 9, 26, 39, 874377, tzinfo=TzInfo(UTC)),\n",
      "            'failed_task_ids': [],\n",
      "            'name': 'set_processing_to_in_state__1',\n",
      "            'start_date': datetime.datetime(2024, 10, 3, 9, 26, 39, 467305, tzinfo=TzInfo(UTC)),\n",
      "            'status': 'success',\n",
      "            'task_status_summary': {'failed': 0,\n",
      "                                    'queued': 0,\n",
      "                                    'running': 0,\n",
      "                                    'skipped': 0,\n",
      "                                    'success': 1}},\n",
      "           {'end_date': datetime.datetime(2024, 10, 3, 9, 26, 41, 527506, tzinfo=TzInfo(UTC)),\n",
      "            'failed_task_ids': [],\n",
      "            'name': 'run_next_workflow',\n",
      "            'start_date': datetime.datetime(2024, 10, 3, 9, 26, 41, 113271, tzinfo=TzInfo(UTC)),\n",
      "            'status': 'skipped',\n",
      "            'task_status_summary': {'failed': 0,\n",
      "                                    'queued': 0,\n",
      "                                    'running': 0,\n",
      "                                    'skipped': 1,\n",
      "                                    'success': 0}},\n",
      "           {'end_date': datetime.datetime(2024, 10, 3, 9, 26, 37, 516030, tzinfo=TzInfo(UTC)),\n",
      "            'failed_task_ids': [],\n",
      "            'name': 'update_doc',\n",
      "            'start_date': datetime.datetime(2024, 10, 3, 9, 26, 36, 861990, tzinfo=TzInfo(UTC)),\n",
      "            'status': 'success',\n",
      "            'task_status_summary': {'failed': 0,\n",
      "                                    'queued': 0,\n",
      "                                    'running': 0,\n",
      "                                    'skipped': 0,\n",
      "                                    'success': 1}},\n",
      "           {'end_date': datetime.datetime(2024, 10, 3, 9, 26, 33, 187002, tzinfo=TzInfo(UTC)),\n",
      "            'failed_task_ids': [],\n",
      "            'name': 'extract_form_values_list',\n",
      "            'start_date': datetime.datetime(2024, 10, 3, 9, 26, 14, 235388, tzinfo=TzInfo(UTC)),\n",
      "            'status': 'success',\n",
      "            'task_status_summary': {'failed': 0,\n",
      "                                    'queued': 0,\n",
      "                                    'running': 0,\n",
      "                                    'skipped': 0,\n",
      "                                    'success': 25}}]}\n"
     ]
    }
   ],
   "source": [
    "import time\n",
    "import random\n",
    "\n",
    "finished = False\n",
    "\n",
    "while not finished:\n",
    "    time.sleep(random.randint(5,10))\n",
    "    workflow_status_response = workflow_operation.get_workflow_status(\n",
    "        show_internal_steps=False,\n",
    "        workflow_id=workflow_id,\n",
    "        workflow_run_id=run_id,\n",
    "    )\n",
    "    current_status = workflow_status_response.status\n",
    "    print(f\"Processing status: {current_status}\")\n",
    "    if current_status in ['success','failed']:\n",
    "        finished = True\n",
    "\n",
    "pprint(workflow_status_response.model_dump())"
   ]
  },
  {
   "cell_type": "markdown",
   "metadata": {},
   "source": [
    "### Get single workflow"
   ]
  },
  {
   "cell_type": "code",
   "execution_count": 26,
   "metadata": {},
   "outputs": [
    {
     "name": "stdout",
     "output_type": "stream",
     "text": [
      "{'name': 'process_form_workflow',\n",
      " 'params': [],\n",
      " 'tasks': [{'downstream_tasks': ['extract_form_values_normal',\n",
      "                                 'extract_form_values_list'],\n",
      "            'is_active': True,\n",
      "            'name': 'get_document'},\n",
      "           {'downstream_tasks': ['update_doc'],\n",
      "            'is_active': True,\n",
      "            'name': 'extract_by_search'},\n",
      "           {'downstream_tasks': ['update_doc'],\n",
      "            'is_active': True,\n",
      "            'name': 'extract_form_values_list'},\n",
      "           {'downstream_tasks': ['update_doc'],\n",
      "            'is_active': True,\n",
      "            'name': 'extract_form_values_normal'},\n",
      "           {'downstream_tasks': ['set_processing_to_failed_state',\n",
      "                                 'set_processing_to_in_state__1'],\n",
      "            'is_active': True,\n",
      "            'name': 'update_doc'},\n",
      "           {'downstream_tasks': [],\n",
      "            'is_active': True,\n",
      "            'name': 'run_next_workflow'},\n",
      "           {'downstream_tasks': ['run_next_workflow'],\n",
      "            'is_active': True,\n",
      "            'name': 'set_processing_to_failed_state'},\n",
      "           {'downstream_tasks': ['extract_form_values_normal',\n",
      "                                 'extract_by_search',\n",
      "                                 'extract_form_values_list'],\n",
      "            'is_active': True,\n",
      "            'name': 'set_processing_to_in_state'},\n",
      "           {'downstream_tasks': ['run_next_workflow'],\n",
      "            'is_active': True,\n",
      "            'name': 'set_processing_to_in_state__1'}]}\n"
     ]
    }
   ],
   "source": [
    "single_workflow_response = workflow_operation.get_single_workflow(\n",
    "    show_internal_steps=False,\n",
    "    workflow_name=\"process_form_workflow\",\n",
    ")\n",
    "pprint(single_workflow_response.model_dump())"
   ]
  },
  {
   "cell_type": "markdown",
   "metadata": {},
   "source": [
    "### Rerun failed workflow (Optional)"
   ]
  },
  {
   "cell_type": "code",
   "execution_count": null,
   "metadata": {},
   "outputs": [
    {
     "name": "stdout",
     "output_type": "stream",
     "text": [
      "{'created_at': '2024-10-03T04:01:26.000000+00:00',\n",
      " 'document_id': '66fe11c5927ce8c0ebda42a3',\n",
      " 'document_name': 'MCS-CS-Handbook-2022-2023Publish.pdf',\n",
      " 'end_date': None,\n",
      " 'in_folders': [],\n",
      " 'run_id': '66fe11c5927ce8c0ebda42a3_c0d7d1fd-70be-4aba-a2bf-1bc1b960392c',\n",
      " 'start_date': None,\n",
      " 'state': None,\n",
      " 'workflow_id': 'process_form_workflow'}\n"
     ]
    }
   ],
   "source": [
    "rerun_workflow = workflow_operation.rerun_workflow(\n",
    "    workflow_name=\"process_form_workflow\",\n",
    "    data=running_workflow_data\n",
    ")\n",
    "pprint(rerun_workflow.model_dump())"
   ]
  },
  {
   "cell_type": "code",
   "execution_count": null,
   "metadata": {},
   "outputs": [
    {
     "name": "stdout",
     "output_type": "stream",
     "text": [
      "{'document_id': '66fe11c5927ce8c0ebda42a3',\n",
      " 'end_date': None,\n",
      " 'start_date': datetime.datetime(2024, 10, 3, 3, 58, 9, 22120, tzinfo=TzInfo(UTC)),\n",
      " 'status': 'running',\n",
      " 'tasks': [{'end_date': datetime.datetime(2024, 10, 3, 3, 58, 58, 918824, tzinfo=TzInfo(UTC)),\n",
      "            'failed_task_ids': [-1],\n",
      "            'name': 'set_processing_to_in_state__1',\n",
      "            'start_date': datetime.datetime(2024, 10, 3, 3, 58, 58, 918824, tzinfo=TzInfo(UTC)),\n",
      "            'status': 'failed',\n",
      "            'task_status_summary': {'failed': 1,\n",
      "                                    'queued': 0,\n",
      "                                    'running': 0,\n",
      "                                    'skipped': 0,\n",
      "                                    'success': 0}},\n",
      "           {'end_date': None,\n",
      "            'failed_task_ids': [],\n",
      "            'name': 'extract_form_values_list',\n",
      "            'start_date': None,\n",
      "            'status': 'queued',\n",
      "            'task_status_summary': {'failed': 0,\n",
      "                                    'queued': 20,\n",
      "                                    'running': 0,\n",
      "                                    'skipped': 0,\n",
      "                                    'success': 0}},\n",
      "           {'end_date': datetime.datetime(2024, 10, 3, 3, 58, 56, 64568, tzinfo=TzInfo(UTC)),\n",
      "            'failed_task_ids': [-1],\n",
      "            'name': 'extract_by_search',\n",
      "            'start_date': datetime.datetime(2024, 10, 3, 3, 58, 50, 242005, tzinfo=TzInfo(UTC)),\n",
      "            'status': 'failed',\n",
      "            'task_status_summary': {'failed': 1,\n",
      "                                    'queued': 0,\n",
      "                                    'running': 0,\n",
      "                                    'skipped': 0,\n",
      "                                    'success': 0}},\n",
      "           {'end_date': None,\n",
      "            'failed_task_ids': [],\n",
      "            'name': 'set_processing_to_failed_state',\n",
      "            'start_date': None,\n",
      "            'status': 'queued',\n",
      "            'task_status_summary': {'failed': 0,\n",
      "                                    'queued': 1,\n",
      "                                    'running': 0,\n",
      "                                    'skipped': 0,\n",
      "                                    'success': 0}},\n",
      "           {'end_date': datetime.datetime(2024, 10, 3, 3, 58, 37, 197120, tzinfo=TzInfo(UTC)),\n",
      "            'failed_task_ids': [],\n",
      "            'name': 'set_processing_to_in_state',\n",
      "            'start_date': datetime.datetime(2024, 10, 3, 3, 58, 30, 201265, tzinfo=TzInfo(UTC)),\n",
      "            'status': 'success',\n",
      "            'task_status_summary': {'failed': 0,\n",
      "                                    'queued': 0,\n",
      "                                    'running': 0,\n",
      "                                    'skipped': 0,\n",
      "                                    'success': 1}},\n",
      "           {'end_date': datetime.datetime(2024, 10, 3, 3, 58, 57, 698016, tzinfo=TzInfo(UTC)),\n",
      "            'failed_task_ids': [-1],\n",
      "            'name': 'update_doc',\n",
      "            'start_date': datetime.datetime(2024, 10, 3, 3, 58, 57, 698016, tzinfo=TzInfo(UTC)),\n",
      "            'status': 'failed',\n",
      "            'task_status_summary': {'failed': 1,\n",
      "                                    'queued': 0,\n",
      "                                    'running': 0,\n",
      "                                    'skipped': 0,\n",
      "                                    'success': 0}},\n",
      "           {'end_date': datetime.datetime(2024, 10, 3, 3, 58, 26, 702480, tzinfo=TzInfo(UTC)),\n",
      "            'failed_task_ids': [],\n",
      "            'name': 'get_document',\n",
      "            'start_date': datetime.datetime(2024, 10, 3, 3, 58, 21, 139842, tzinfo=TzInfo(UTC)),\n",
      "            'status': 'success',\n",
      "            'task_status_summary': {'failed': 0,\n",
      "                                    'queued': 0,\n",
      "                                    'running': 0,\n",
      "                                    'skipped': 0,\n",
      "                                    'success': 1}},\n",
      "           {'end_date': None,\n",
      "            'failed_task_ids': [],\n",
      "            'name': 'extract_form_values_normal',\n",
      "            'start_date': None,\n",
      "            'status': 'queued',\n",
      "            'task_status_summary': {'failed': 0,\n",
      "                                    'queued': 1,\n",
      "                                    'running': 0,\n",
      "                                    'skipped': 0,\n",
      "                                    'success': 0}},\n",
      "           {'end_date': datetime.datetime(2024, 10, 3, 3, 58, 59, 72873, tzinfo=TzInfo(UTC)),\n",
      "            'failed_task_ids': [-1],\n",
      "            'name': 'run_next_workflow',\n",
      "            'start_date': datetime.datetime(2024, 10, 3, 3, 58, 59, 72873, tzinfo=TzInfo(UTC)),\n",
      "            'status': 'failed',\n",
      "            'task_status_summary': {'failed': 1,\n",
      "                                    'queued': 0,\n",
      "                                    'running': 0,\n",
      "                                    'skipped': 0,\n",
      "                                    'success': 0}}]}\n"
     ]
    }
   ],
   "source": [
    "workflow_status_response = workflow_operation.get_workflow_status(\n",
    "    show_internal_steps=False,\n",
    "    workflow_id=rerun_workflow.workflow_id,\n",
    "    workflow_run_id=rerun_workflow.run_id,\n",
    ")\n",
    "pprint(workflow_status_response.model_dump())"
   ]
  },
  {
   "cell_type": "markdown",
   "metadata": {},
   "source": [
    "### Get form"
   ]
  },
  {
   "cell_type": "code",
   "execution_count": null,
   "metadata": {},
   "outputs": [],
   "source": [
    "from documents.service import FormOperations\n",
    "from documents.models import FilterFormInstanceRequest\n",
    "\n",
    "configs = LoadConfigurations(env_file_path=ENV_FILE_PATH).set_config(service=ServiceType.DOCUMENT)\n",
    "form_operation = FormOperations(configs=configs)\n",
    "\n",
    "\n",
    "body = FilterFormInstanceRequest(\n",
    "    scope=\"all_documents\",\n",
    "    doc_id=document_id,\n",
    ")\n",
    "\n",
    "form_create_response = form_operation.filter_form_instances(form_data=body).model_dump()\n",
    "\n",
    "pprint(form_create_response)"
   ]
  },
  {
   "cell_type": "code",
   "execution_count": 28,
   "metadata": {},
   "outputs": [
    {
     "data": {
      "text/plain": [
       "'66fe234870dd6d497d9b8ba5'"
      ]
     },
     "execution_count": 28,
     "metadata": {},
     "output_type": "execute_result"
    }
   ],
   "source": [
    "form_id = form_create_response[\"form_instances\"][0][\"form_id\"]\n",
    "form_id"
   ]
  },
  {
   "cell_type": "markdown",
   "metadata": {},
   "source": [
    "### View form definition"
   ]
  },
  {
   "cell_type": "code",
   "execution_count": 29,
   "metadata": {},
   "outputs": [
    {
     "name": "stdout",
     "output_type": "stream",
     "text": [
      "{'category': 'UNITED STATES SECURITIES AND EXCHANGE COMMISSION',\n",
      " 'created_at': '2024-10-03T04:53:28Z',\n",
      " 'description': 'Apple form',\n",
      " 'fields': [{'description': 'Net Sales for the quarter',\n",
      "             'field_type': 'Number',\n",
      "             'fill_by_search': False,\n",
      "             'is_array': True,\n",
      "             'name': 'Net Sales'},\n",
      "            {'description': '',\n",
      "             'field_type': 'Number',\n",
      "             'fill_by_search': False,\n",
      "             'is_array': False,\n",
      "             'name': 'Total sales'}],\n",
      " 'id': '66fe234870dd6d497d9b8ba5',\n",
      " 'is_searchable': False,\n",
      " 'is_shared': False,\n",
      " 'name': 'APPLE FORM',\n",
      " 'user_id': 'google-oauth2|117349365869611297391'}\n"
     ]
    }
   ],
   "source": [
    "form_definition_response = form_operation.get_form_definition(form_id=form_id)\n",
    "pprint(form_definition_response.model_dump())"
   ]
  }
 ],
 "metadata": {
  "kernelspec": {
   "display_name": ".venv",
   "language": "python",
   "name": "python3"
  },
  "language_info": {
   "codemirror_mode": {
    "name": "ipython",
    "version": 3
   },
   "file_extension": ".py",
   "mimetype": "text/x-python",
   "name": "python",
   "nbconvert_exporter": "python",
   "pygments_lexer": "ipython3",
   "version": "3.12.5"
  },
  "orig_nbformat": 4
 },
 "nbformat": 4,
 "nbformat_minor": 2
}
