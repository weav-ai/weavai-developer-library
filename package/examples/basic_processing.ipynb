{
 "cells": [
  {
   "cell_type": "markdown",
   "metadata": {},
   "source": [
    "##### The following template demonstrates how to:\n",
    "##### 1. Upload a document\n",
    "##### 2. Retrieve the document\n",
    "##### 3. Workflow management\n",
    "##### 4. Form operation "
   ]
  },
  {
   "cell_type": "code",
   "execution_count": 2,
   "metadata": {},
   "outputs": [],
   "source": [
    "from pprint import pprint"
   ]
  },
  {
   "cell_type": "markdown",
   "metadata": {},
   "source": [
    "TODO: Add the correct path below"
   ]
  },
  {
   "cell_type": "code",
   "execution_count": 3,
   "metadata": {},
   "outputs": [],
   "source": [
    "DOCUMENT_PATH = \"../AAPL_10Q.pdf\""
   ]
  },
  {
   "cell_type": "markdown",
   "metadata": {},
   "source": [
    "## Uploading document"
   ]
  },
  {
   "cell_type": "code",
   "execution_count": 4,
   "metadata": {},
   "outputs": [
    {
     "name": "stdout",
     "output_type": "stream",
     "text": [
      "/Users/adityakotwal/Desktop/WEAV/weav-ai-dev/package/.env\n",
      "/Users/adityakotwal/Desktop/WEAV/weav-ai-dev/package/.env\n",
      "/Users/adityakotwal/Desktop/WEAV/weav-ai-dev/package/.env\n",
      "/Users/adityakotwal/Desktop/WEAV/weav-ai-dev/package/.env\n",
      "/Users/adityakotwal/Desktop/WEAV/weav-ai-dev/package/.env\n",
      "/Users/adityakotwal/Desktop/WEAV/weav-ai-dev/package/.env\n",
      "Uploading document AAPL_10Q.pdf\n",
      "Uploaded document!\n"
     ]
    }
   ],
   "source": [
    "from weavaidev import documents as document_operation\n",
    "\n",
    "print(f\"Uploading document {DOCUMENT_PATH.split('/')[-1]}\")\n",
    "\n",
    "document_create_response = document_operation.create_document(file_path=DOCUMENT_PATH)\n",
    "\n",
    "print(\"Uploaded document!\")"
   ]
  },
  {
   "cell_type": "code",
   "execution_count": 5,
   "metadata": {},
   "outputs": [
    {
     "name": "stdout",
     "output_type": "stream",
     "text": [
      "Document ID: 6711d5a67212c1ec5f894923\n"
     ]
    }
   ],
   "source": [
    "document_id = document_create_response.id\n",
    "print(f\"Document ID: {document_id}\")"
   ]
  },
  {
   "cell_type": "markdown",
   "metadata": {},
   "source": [
    "## Get information about the document"
   ]
  },
  {
   "cell_type": "code",
   "execution_count": 6,
   "metadata": {},
   "outputs": [
    {
     "name": "stdout",
     "output_type": "stream",
     "text": [
      "Fetched document\n",
      "{'ai_tags': [],\n",
      " 'category': '',\n",
      " 'created_at': datetime.datetime(2024, 10, 18, 3, 27, 34, tzinfo=TzInfo(UTC)),\n",
      " 'download_url': '/doc-proc-service/local_store/google-oauth2|117349365869611297391/6711d5a67212c1ec5f894923/6711d5a67212c1ec5f894923',\n",
      " 'file_name': 'AAPL_10Q.pdf',\n",
      " 'form_instances': None,\n",
      " 'id': '6711d5a67212c1ec5f894923',\n",
      " 'in_folders': [],\n",
      " 'media_type': 'application/pdf',\n",
      " 'pages': [],\n",
      " 'redacted_summary': '',\n",
      " 'size': 654929,\n",
      " 'source': 'application',\n",
      " 'status': 'NEW',\n",
      " 'step_status': {'FORM_EXTRACTION': {'error': '',\n",
      "                                     'modified_at': datetime.datetime(2024, 10, 18, 3, 27, 34, tzinfo=TzInfo(UTC)),\n",
      "                                     'response': {},\n",
      "                                     'status': 'NOT_STARTED'}},\n",
      " 'summary': '',\n",
      " 'summary_status': '',\n",
      " 'tags': [],\n",
      " 'tenant_id': '',\n",
      " 'user_id': 'google-oauth2|117349365869611297391'}\n",
      "\n"
     ]
    }
   ],
   "source": [
    "get_document_response = document_operation.get_document(document_id=document_id)\n",
    "\n",
    "print(\"Fetched document\")\n",
    "\n",
    "pprint(get_document_response.model_dump())\n",
    "\n",
    "document_category = get_document_response.category\n",
    "\n",
    "print(document_category)"
   ]
  },
  {
   "cell_type": "markdown",
   "metadata": {},
   "source": [
    "## Workflow management"
   ]
  },
  {
   "cell_type": "markdown",
   "metadata": {},
   "source": [
    "### 1. Getting all workflows"
   ]
  },
  {
   "cell_type": "code",
   "execution_count": 7,
   "metadata": {},
   "outputs": [
    {
     "name": "stdout",
     "output_type": "stream",
     "text": [
      "GETTING ALL WORKFLOWS\n",
      "['dagtasktest',\n",
      " 'dagtest',\n",
      " 'download_from_connector',\n",
      " 'extract_form_and_compliance',\n",
      " 'process_brain_document',\n",
      " 'process_compliance_exclude_entity',\n",
      " 'process_custom_queries',\n",
      " 'process_document',\n",
      " 'process_document_create_decision_tree',\n",
      " 'process_document_multi_forms',\n",
      " 'process_document_sensors',\n",
      " 'process_document_summary_compliance',\n",
      " 'process_document_summary_generation',\n",
      " 'process_document_tabular_data',\n",
      " 'process_form_data_cleanup',\n",
      " 'process_form_workflow',\n",
      " 'run_agent']\n"
     ]
    }
   ],
   "source": [
    "from weavaidev import workflows as workflow_operation\n",
    "\n",
    "print(\"GETTING ALL WORKFLOWS\")\n",
    "\n",
    "workflow_response = workflow_operation.get_all_workflows()\n",
    "\n",
    "workflows = [workflow.name for workflow in workflow_response.workflows]\n",
    "\n",
    "pprint(workflows)"
   ]
  },
  {
   "cell_type": "markdown",
   "metadata": {},
   "source": [
    "### 2. Running specific workflows"
   ]
  },
  {
   "cell_type": "markdown",
   "metadata": {},
   "source": [
    "#### Process document workflow"
   ]
  },
  {
   "cell_type": "code",
   "execution_count": 8,
   "metadata": {},
   "outputs": [
    {
     "name": "stdout",
     "output_type": "stream",
     "text": [
      "RUNNING 'process_document' WORKFLOW\n",
      "{'created_at': '2024-10-18T03:28:34.000000+00:00',\n",
      " 'document_id': '6711d5a67212c1ec5f894923',\n",
      " 'document_name': 'AAPL_10Q.pdf',\n",
      " 'end_date': None,\n",
      " 'in_folders': [],\n",
      " 'run_id': '6711d5a67212c1ec5f894923_354e1493-d922-4dcb-a928-fa4454dd9c06',\n",
      " 'start_date': None,\n",
      " 'state': None,\n",
      " 'workflow_id': 'process_document'}\n",
      "RUN ID: 6711d5a67212c1ec5f894923_354e1493-d922-4dcb-a928-fa4454dd9c06\n"
     ]
    }
   ],
   "source": [
    "print(\"RUNNING 'process_document' WORKFLOW\")\n",
    "\n",
    "process_document_response = workflow_operation.run_workflow(\n",
    "    workflow_name=\"process_document\", doc_id=document_id, data={}\n",
    ")\n",
    "\n",
    "pprint(process_document_response.model_dump())\n",
    "\n",
    "print(f\"RUN ID: {process_document_response.run_id}\")"
   ]
  },
  {
   "cell_type": "markdown",
   "metadata": {},
   "source": [
    "#### The cell below utilizes the get workflow status API to check if the workflow has completed."
   ]
  },
  {
   "cell_type": "code",
   "execution_count": 9,
   "metadata": {},
   "outputs": [
    {
     "name": "stdout",
     "output_type": "stream",
     "text": [
      "Processing status: running\n",
      "Processing status: running\n",
      "Processing status: running\n",
      "Processing status: running\n",
      "Processing status: running\n",
      "Processing status: running\n",
      "Processing status: running\n",
      "Processing status: running\n",
      "Processing status: running\n",
      "Processing status: running\n",
      "Processing status: running\n",
      "Processing status: running\n",
      "Processing status: running\n",
      "Processing status: running\n",
      "Processing status: running\n",
      "Processing status: running\n",
      "Processing status: running\n",
      "Processing status: running\n",
      "Processing status: running\n",
      "Processing status: running\n",
      "Processing status: running\n",
      "Processing status: running\n",
      "Processing status: running\n",
      "Processing status: running\n",
      "Processing status: running\n",
      "Processing status: running\n",
      "Processing status: running\n",
      "Processing status: running\n",
      "Processing status: running\n",
      "Processing status: running\n",
      "Processing status: running\n",
      "Processing status: running\n",
      "Processing status: running\n",
      "Processing status: running\n",
      "Processing status: running\n",
      "Processing status: running\n",
      "Processing status: running\n",
      "Processing status: running\n",
      "Processing status: running\n",
      "Processing status: running\n",
      "Processing status: running\n",
      "Processing status: running\n",
      "Processing status: running\n",
      "Processing status: running\n",
      "Processing status: running\n",
      "Processing status: running\n",
      "Processing status: running\n",
      "Processing status: running\n",
      "Processing status: running\n",
      "Processing status: running\n",
      "Processing status: running\n",
      "Processing status: running\n",
      "Processing status: running\n",
      "Processing status: running\n",
      "Processing status: running\n",
      "Processing status: running\n",
      "Processing status: running\n",
      "Processing status: running\n",
      "Processing status: running\n",
      "Processing status: running\n",
      "Processing status: running\n",
      "Processing status: running\n",
      "Processing status: running\n"
     ]
    },
    {
     "ename": "KeyboardInterrupt",
     "evalue": "",
     "output_type": "error",
     "traceback": [
      "\u001b[0;31m---------------------------------------------------------------------------\u001b[0m",
      "\u001b[0;31mKeyboardInterrupt\u001b[0m                         Traceback (most recent call last)",
      "Cell \u001b[0;32mIn[9], line 8\u001b[0m\n\u001b[1;32m      6\u001b[0m \u001b[39mwhile\u001b[39;00m \u001b[39mnot\u001b[39;00m finished:\n\u001b[1;32m      7\u001b[0m     time\u001b[39m.\u001b[39msleep(random\u001b[39m.\u001b[39mrandint(\u001b[39m5\u001b[39m, \u001b[39m10\u001b[39m))\n\u001b[0;32m----> 8\u001b[0m     workflow_status_response \u001b[39m=\u001b[39m workflow_operation\u001b[39m.\u001b[39;49mget_workflow_status(\n\u001b[1;32m      9\u001b[0m         show_internal_steps\u001b[39m=\u001b[39;49m\u001b[39mFalse\u001b[39;49;00m,\n\u001b[1;32m     10\u001b[0m         workflow_id\u001b[39m=\u001b[39;49mprocess_document_response\u001b[39m.\u001b[39;49mworkflow_id,\n\u001b[1;32m     11\u001b[0m         workflow_run_id\u001b[39m=\u001b[39;49mprocess_document_response\u001b[39m.\u001b[39;49mrun_id,\n\u001b[1;32m     12\u001b[0m     )\n\u001b[1;32m     13\u001b[0m     current_status \u001b[39m=\u001b[39m workflow_status_response\u001b[39m.\u001b[39mstatus\n\u001b[1;32m     14\u001b[0m     \u001b[39mprint\u001b[39m(\u001b[39mf\u001b[39m\u001b[39m\"\u001b[39m\u001b[39mProcessing status: \u001b[39m\u001b[39m{\u001b[39;00mcurrent_status\u001b[39m}\u001b[39;00m\u001b[39m\"\u001b[39m)\n",
      "File \u001b[0;32m~/Desktop/WEAV/weav-ai-dev/package/weavaidev/workflows/service.py:150\u001b[0m, in \u001b[0;36mget_workflow_status\u001b[0;34m(self, workflow_id, workflow_run_id, show_internal_steps)\u001b[0m\n\u001b[1;32m    144\u001b[0m \u001b[39mdef\u001b[39;00m \u001b[39mget_workflow_status\u001b[39m(\n\u001b[1;32m    145\u001b[0m     \u001b[39mself\u001b[39m,\n\u001b[1;32m    146\u001b[0m     workflow_id: \u001b[39mstr\u001b[39m,\n\u001b[1;32m    147\u001b[0m     workflow_run_id: \u001b[39mstr\u001b[39m,\n\u001b[1;32m    148\u001b[0m     show_internal_steps: Optional[\u001b[39mbool\u001b[39m] \u001b[39m=\u001b[39m \u001b[39mFalse\u001b[39;00m,\n\u001b[1;32m    149\u001b[0m ) \u001b[39m-\u001b[39m\u001b[39m>\u001b[39m WorkflowStatusResponse:\n\u001b[0;32m--> 150\u001b[0m     url \u001b[39m=\u001b[39m \u001b[39mf\u001b[39m\u001b[39m\"\u001b[39m\u001b[39m{\u001b[39;00m\u001b[39mself\u001b[39m\u001b[39m.\u001b[39mconfigs\u001b[39m.\u001b[39mbase_url\u001b[39m}\u001b[39;00m\u001b[39m/\u001b[39m\u001b[39m{\u001b[39;00m\u001b[39mself\u001b[39m\u001b[39m.\u001b[39mendpoints\u001b[39m.\u001b[39mWORKFLOW_STATUS\u001b[39m.\u001b[39mformat(WORKFLOW_ID\u001b[39m=\u001b[39mworkflow_id,WORKFLOW_RUN_ID\u001b[39m=\u001b[39mworkflow_run_id)\u001b[39m}\u001b[39;00m\u001b[39m\"\u001b[39m\n\u001b[1;32m    151\u001b[0m     response \u001b[39m=\u001b[39m requests\u001b[39m.\u001b[39mget(\n\u001b[1;32m    152\u001b[0m         url\u001b[39m=\u001b[39murl,\n\u001b[1;32m    153\u001b[0m         params\u001b[39m=\u001b[39m[(\u001b[39m\"\u001b[39m\u001b[39mshow_internal_steps\u001b[39m\u001b[39m\"\u001b[39m, show_internal_steps)],\n\u001b[1;32m    154\u001b[0m         headers\u001b[39m=\u001b[39m{\u001b[39m\"\u001b[39m\u001b[39mAuthorization\u001b[39m\u001b[39m\"\u001b[39m: \u001b[39mf\u001b[39m\u001b[39m\"\u001b[39m\u001b[39mBearer \u001b[39m\u001b[39m{\u001b[39;00m\u001b[39mself\u001b[39m\u001b[39m.\u001b[39mconfigs\u001b[39m.\u001b[39mauth_token\u001b[39m}\u001b[39;00m\u001b[39m\"\u001b[39m},\n\u001b[1;32m    155\u001b[0m     )\n\u001b[1;32m    156\u001b[0m     \u001b[39mif\u001b[39;00m response\u001b[39m.\u001b[39mstatus_code \u001b[39m==\u001b[39m \u001b[39m401\u001b[39m:\n",
      "File \u001b[0;32m~/Desktop/WEAV/weav-ai-dev/myenv/lib/python3.11/site-packages/requests/api.py:73\u001b[0m, in \u001b[0;36mget\u001b[0;34m(url, params, **kwargs)\u001b[0m\n\u001b[1;32m     62\u001b[0m \u001b[39mdef\u001b[39;00m \u001b[39mget\u001b[39m(url, params\u001b[39m=\u001b[39m\u001b[39mNone\u001b[39;00m, \u001b[39m*\u001b[39m\u001b[39m*\u001b[39mkwargs):\n\u001b[1;32m     63\u001b[0m \u001b[39m    \u001b[39m\u001b[39mr\u001b[39m\u001b[39m\"\"\"Sends a GET request.\u001b[39;00m\n\u001b[1;32m     64\u001b[0m \n\u001b[1;32m     65\u001b[0m \u001b[39m    :param url: URL for the new :class:`Request` object.\u001b[39;00m\n\u001b[0;32m   (...)\u001b[0m\n\u001b[1;32m     70\u001b[0m \u001b[39m    :rtype: requests.Response\u001b[39;00m\n\u001b[1;32m     71\u001b[0m \u001b[39m    \"\"\"\u001b[39;00m\n\u001b[0;32m---> 73\u001b[0m     \u001b[39mreturn\u001b[39;00m request(\u001b[39m\"\u001b[39;49m\u001b[39mget\u001b[39;49m\u001b[39m\"\u001b[39;49m, url, params\u001b[39m=\u001b[39;49mparams, \u001b[39m*\u001b[39;49m\u001b[39m*\u001b[39;49mkwargs)\n",
      "File \u001b[0;32m~/Desktop/WEAV/weav-ai-dev/myenv/lib/python3.11/site-packages/requests/api.py:59\u001b[0m, in \u001b[0;36mrequest\u001b[0;34m(method, url, **kwargs)\u001b[0m\n\u001b[1;32m     55\u001b[0m \u001b[39m# By using the 'with' statement we are sure the session is closed, thus we\u001b[39;00m\n\u001b[1;32m     56\u001b[0m \u001b[39m# avoid leaving sockets open which can trigger a ResourceWarning in some\u001b[39;00m\n\u001b[1;32m     57\u001b[0m \u001b[39m# cases, and look like a memory leak in others.\u001b[39;00m\n\u001b[1;32m     58\u001b[0m \u001b[39mwith\u001b[39;00m sessions\u001b[39m.\u001b[39mSession() \u001b[39mas\u001b[39;00m session:\n\u001b[0;32m---> 59\u001b[0m     \u001b[39mreturn\u001b[39;00m session\u001b[39m.\u001b[39;49mrequest(method\u001b[39m=\u001b[39;49mmethod, url\u001b[39m=\u001b[39;49murl, \u001b[39m*\u001b[39;49m\u001b[39m*\u001b[39;49mkwargs)\n",
      "File \u001b[0;32m~/Desktop/WEAV/weav-ai-dev/myenv/lib/python3.11/site-packages/requests/sessions.py:589\u001b[0m, in \u001b[0;36mSession.request\u001b[0;34m(self, method, url, params, data, headers, cookies, files, auth, timeout, allow_redirects, proxies, hooks, stream, verify, cert, json)\u001b[0m\n\u001b[1;32m    584\u001b[0m send_kwargs \u001b[39m=\u001b[39m {\n\u001b[1;32m    585\u001b[0m     \u001b[39m\"\u001b[39m\u001b[39mtimeout\u001b[39m\u001b[39m\"\u001b[39m: timeout,\n\u001b[1;32m    586\u001b[0m     \u001b[39m\"\u001b[39m\u001b[39mallow_redirects\u001b[39m\u001b[39m\"\u001b[39m: allow_redirects,\n\u001b[1;32m    587\u001b[0m }\n\u001b[1;32m    588\u001b[0m send_kwargs\u001b[39m.\u001b[39mupdate(settings)\n\u001b[0;32m--> 589\u001b[0m resp \u001b[39m=\u001b[39m \u001b[39mself\u001b[39;49m\u001b[39m.\u001b[39;49msend(prep, \u001b[39m*\u001b[39;49m\u001b[39m*\u001b[39;49msend_kwargs)\n\u001b[1;32m    591\u001b[0m \u001b[39mreturn\u001b[39;00m resp\n",
      "File \u001b[0;32m~/Desktop/WEAV/weav-ai-dev/myenv/lib/python3.11/site-packages/requests/sessions.py:703\u001b[0m, in \u001b[0;36mSession.send\u001b[0;34m(self, request, **kwargs)\u001b[0m\n\u001b[1;32m    700\u001b[0m start \u001b[39m=\u001b[39m preferred_clock()\n\u001b[1;32m    702\u001b[0m \u001b[39m# Send the request\u001b[39;00m\n\u001b[0;32m--> 703\u001b[0m r \u001b[39m=\u001b[39m adapter\u001b[39m.\u001b[39;49msend(request, \u001b[39m*\u001b[39;49m\u001b[39m*\u001b[39;49mkwargs)\n\u001b[1;32m    705\u001b[0m \u001b[39m# Total elapsed time of the request (approximately)\u001b[39;00m\n\u001b[1;32m    706\u001b[0m elapsed \u001b[39m=\u001b[39m preferred_clock() \u001b[39m-\u001b[39m start\n",
      "File \u001b[0;32m~/Desktop/WEAV/weav-ai-dev/myenv/lib/python3.11/site-packages/requests/adapters.py:667\u001b[0m, in \u001b[0;36mHTTPAdapter.send\u001b[0;34m(self, request, stream, timeout, verify, cert, proxies)\u001b[0m\n\u001b[1;32m    664\u001b[0m     timeout \u001b[39m=\u001b[39m TimeoutSauce(connect\u001b[39m=\u001b[39mtimeout, read\u001b[39m=\u001b[39mtimeout)\n\u001b[1;32m    666\u001b[0m \u001b[39mtry\u001b[39;00m:\n\u001b[0;32m--> 667\u001b[0m     resp \u001b[39m=\u001b[39m conn\u001b[39m.\u001b[39;49murlopen(\n\u001b[1;32m    668\u001b[0m         method\u001b[39m=\u001b[39;49mrequest\u001b[39m.\u001b[39;49mmethod,\n\u001b[1;32m    669\u001b[0m         url\u001b[39m=\u001b[39;49murl,\n\u001b[1;32m    670\u001b[0m         body\u001b[39m=\u001b[39;49mrequest\u001b[39m.\u001b[39;49mbody,\n\u001b[1;32m    671\u001b[0m         headers\u001b[39m=\u001b[39;49mrequest\u001b[39m.\u001b[39;49mheaders,\n\u001b[1;32m    672\u001b[0m         redirect\u001b[39m=\u001b[39;49m\u001b[39mFalse\u001b[39;49;00m,\n\u001b[1;32m    673\u001b[0m         assert_same_host\u001b[39m=\u001b[39;49m\u001b[39mFalse\u001b[39;49;00m,\n\u001b[1;32m    674\u001b[0m         preload_content\u001b[39m=\u001b[39;49m\u001b[39mFalse\u001b[39;49;00m,\n\u001b[1;32m    675\u001b[0m         decode_content\u001b[39m=\u001b[39;49m\u001b[39mFalse\u001b[39;49;00m,\n\u001b[1;32m    676\u001b[0m         retries\u001b[39m=\u001b[39;49m\u001b[39mself\u001b[39;49m\u001b[39m.\u001b[39;49mmax_retries,\n\u001b[1;32m    677\u001b[0m         timeout\u001b[39m=\u001b[39;49mtimeout,\n\u001b[1;32m    678\u001b[0m         chunked\u001b[39m=\u001b[39;49mchunked,\n\u001b[1;32m    679\u001b[0m     )\n\u001b[1;32m    681\u001b[0m \u001b[39mexcept\u001b[39;00m (ProtocolError, \u001b[39mOSError\u001b[39;00m) \u001b[39mas\u001b[39;00m err:\n\u001b[1;32m    682\u001b[0m     \u001b[39mraise\u001b[39;00m \u001b[39mConnectionError\u001b[39;00m(err, request\u001b[39m=\u001b[39mrequest)\n",
      "File \u001b[0;32m~/Desktop/WEAV/weav-ai-dev/myenv/lib/python3.11/site-packages/urllib3/connectionpool.py:789\u001b[0m, in \u001b[0;36mHTTPConnectionPool.urlopen\u001b[0;34m(self, method, url, body, headers, retries, redirect, assert_same_host, timeout, pool_timeout, release_conn, chunked, body_pos, preload_content, decode_content, **response_kw)\u001b[0m\n\u001b[1;32m    786\u001b[0m response_conn \u001b[39m=\u001b[39m conn \u001b[39mif\u001b[39;00m \u001b[39mnot\u001b[39;00m release_conn \u001b[39melse\u001b[39;00m \u001b[39mNone\u001b[39;00m\n\u001b[1;32m    788\u001b[0m \u001b[39m# Make the request on the HTTPConnection object\u001b[39;00m\n\u001b[0;32m--> 789\u001b[0m response \u001b[39m=\u001b[39m \u001b[39mself\u001b[39;49m\u001b[39m.\u001b[39;49m_make_request(\n\u001b[1;32m    790\u001b[0m     conn,\n\u001b[1;32m    791\u001b[0m     method,\n\u001b[1;32m    792\u001b[0m     url,\n\u001b[1;32m    793\u001b[0m     timeout\u001b[39m=\u001b[39;49mtimeout_obj,\n\u001b[1;32m    794\u001b[0m     body\u001b[39m=\u001b[39;49mbody,\n\u001b[1;32m    795\u001b[0m     headers\u001b[39m=\u001b[39;49mheaders,\n\u001b[1;32m    796\u001b[0m     chunked\u001b[39m=\u001b[39;49mchunked,\n\u001b[1;32m    797\u001b[0m     retries\u001b[39m=\u001b[39;49mretries,\n\u001b[1;32m    798\u001b[0m     response_conn\u001b[39m=\u001b[39;49mresponse_conn,\n\u001b[1;32m    799\u001b[0m     preload_content\u001b[39m=\u001b[39;49mpreload_content,\n\u001b[1;32m    800\u001b[0m     decode_content\u001b[39m=\u001b[39;49mdecode_content,\n\u001b[1;32m    801\u001b[0m     \u001b[39m*\u001b[39;49m\u001b[39m*\u001b[39;49mresponse_kw,\n\u001b[1;32m    802\u001b[0m )\n\u001b[1;32m    804\u001b[0m \u001b[39m# Everything went great!\u001b[39;00m\n\u001b[1;32m    805\u001b[0m clean_exit \u001b[39m=\u001b[39m \u001b[39mTrue\u001b[39;00m\n",
      "File \u001b[0;32m~/Desktop/WEAV/weav-ai-dev/myenv/lib/python3.11/site-packages/urllib3/connectionpool.py:536\u001b[0m, in \u001b[0;36mHTTPConnectionPool._make_request\u001b[0;34m(self, conn, method, url, body, headers, retries, timeout, chunked, response_conn, preload_content, decode_content, enforce_content_length)\u001b[0m\n\u001b[1;32m    534\u001b[0m \u001b[39m# Receive the response from the server\u001b[39;00m\n\u001b[1;32m    535\u001b[0m \u001b[39mtry\u001b[39;00m:\n\u001b[0;32m--> 536\u001b[0m     response \u001b[39m=\u001b[39m conn\u001b[39m.\u001b[39;49mgetresponse()\n\u001b[1;32m    537\u001b[0m \u001b[39mexcept\u001b[39;00m (BaseSSLError, \u001b[39mOSError\u001b[39;00m) \u001b[39mas\u001b[39;00m e:\n\u001b[1;32m    538\u001b[0m     \u001b[39mself\u001b[39m\u001b[39m.\u001b[39m_raise_timeout(err\u001b[39m=\u001b[39me, url\u001b[39m=\u001b[39murl, timeout_value\u001b[39m=\u001b[39mread_timeout)\n",
      "File \u001b[0;32m~/Desktop/WEAV/weav-ai-dev/myenv/lib/python3.11/site-packages/urllib3/connection.py:507\u001b[0m, in \u001b[0;36mHTTPConnection.getresponse\u001b[0;34m(self)\u001b[0m\n\u001b[1;32m    504\u001b[0m \u001b[39mfrom\u001b[39;00m \u001b[39m.\u001b[39;00m\u001b[39mresponse\u001b[39;00m \u001b[39mimport\u001b[39;00m HTTPResponse\n\u001b[1;32m    506\u001b[0m \u001b[39m# Get the response from http.client.HTTPConnection\u001b[39;00m\n\u001b[0;32m--> 507\u001b[0m httplib_response \u001b[39m=\u001b[39m \u001b[39msuper\u001b[39;49m()\u001b[39m.\u001b[39;49mgetresponse()\n\u001b[1;32m    509\u001b[0m \u001b[39mtry\u001b[39;00m:\n\u001b[1;32m    510\u001b[0m     assert_header_parsing(httplib_response\u001b[39m.\u001b[39mmsg)\n",
      "File \u001b[0;32m~/miniconda3/lib/python3.11/http/client.py:1378\u001b[0m, in \u001b[0;36mHTTPConnection.getresponse\u001b[0;34m(self)\u001b[0m\n\u001b[1;32m   1376\u001b[0m \u001b[39mtry\u001b[39;00m:\n\u001b[1;32m   1377\u001b[0m     \u001b[39mtry\u001b[39;00m:\n\u001b[0;32m-> 1378\u001b[0m         response\u001b[39m.\u001b[39;49mbegin()\n\u001b[1;32m   1379\u001b[0m     \u001b[39mexcept\u001b[39;00m \u001b[39mConnectionError\u001b[39;00m:\n\u001b[1;32m   1380\u001b[0m         \u001b[39mself\u001b[39m\u001b[39m.\u001b[39mclose()\n",
      "File \u001b[0;32m~/miniconda3/lib/python3.11/http/client.py:318\u001b[0m, in \u001b[0;36mHTTPResponse.begin\u001b[0;34m(self)\u001b[0m\n\u001b[1;32m    316\u001b[0m \u001b[39m# read until we get a non-100 response\u001b[39;00m\n\u001b[1;32m    317\u001b[0m \u001b[39mwhile\u001b[39;00m \u001b[39mTrue\u001b[39;00m:\n\u001b[0;32m--> 318\u001b[0m     version, status, reason \u001b[39m=\u001b[39m \u001b[39mself\u001b[39;49m\u001b[39m.\u001b[39;49m_read_status()\n\u001b[1;32m    319\u001b[0m     \u001b[39mif\u001b[39;00m status \u001b[39m!=\u001b[39m CONTINUE:\n\u001b[1;32m    320\u001b[0m         \u001b[39mbreak\u001b[39;00m\n",
      "File \u001b[0;32m~/miniconda3/lib/python3.11/http/client.py:279\u001b[0m, in \u001b[0;36mHTTPResponse._read_status\u001b[0;34m(self)\u001b[0m\n\u001b[1;32m    278\u001b[0m \u001b[39mdef\u001b[39;00m \u001b[39m_read_status\u001b[39m(\u001b[39mself\u001b[39m):\n\u001b[0;32m--> 279\u001b[0m     line \u001b[39m=\u001b[39m \u001b[39mstr\u001b[39m(\u001b[39mself\u001b[39m\u001b[39m.\u001b[39mfp\u001b[39m.\u001b[39mreadline(_MAXLINE \u001b[39m+\u001b[39m \u001b[39m1\u001b[39m), \u001b[39m\"\u001b[39m\u001b[39miso-8859-1\u001b[39m\u001b[39m\"\u001b[39m)\n\u001b[1;32m    280\u001b[0m     \u001b[39mif\u001b[39;00m \u001b[39mlen\u001b[39m(line) \u001b[39m>\u001b[39m _MAXLINE:\n\u001b[1;32m    281\u001b[0m         \u001b[39mraise\u001b[39;00m LineTooLong(\u001b[39m\"\u001b[39m\u001b[39mstatus line\u001b[39m\u001b[39m\"\u001b[39m)\n",
      "File \u001b[0;32m~/miniconda3/lib/python3.11/socket.py:706\u001b[0m, in \u001b[0;36mSocketIO.readinto\u001b[0;34m(self, b)\u001b[0m\n\u001b[1;32m    704\u001b[0m \u001b[39mwhile\u001b[39;00m \u001b[39mTrue\u001b[39;00m:\n\u001b[1;32m    705\u001b[0m     \u001b[39mtry\u001b[39;00m:\n\u001b[0;32m--> 706\u001b[0m         \u001b[39mreturn\u001b[39;00m \u001b[39mself\u001b[39;49m\u001b[39m.\u001b[39;49m_sock\u001b[39m.\u001b[39;49mrecv_into(b)\n\u001b[1;32m    707\u001b[0m     \u001b[39mexcept\u001b[39;00m timeout:\n\u001b[1;32m    708\u001b[0m         \u001b[39mself\u001b[39m\u001b[39m.\u001b[39m_timeout_occurred \u001b[39m=\u001b[39m \u001b[39mTrue\u001b[39;00m\n",
      "File \u001b[0;32m~/miniconda3/lib/python3.11/ssl.py:1278\u001b[0m, in \u001b[0;36mSSLSocket.recv_into\u001b[0;34m(self, buffer, nbytes, flags)\u001b[0m\n\u001b[1;32m   1274\u001b[0m     \u001b[39mif\u001b[39;00m flags \u001b[39m!=\u001b[39m \u001b[39m0\u001b[39m:\n\u001b[1;32m   1275\u001b[0m         \u001b[39mraise\u001b[39;00m \u001b[39mValueError\u001b[39;00m(\n\u001b[1;32m   1276\u001b[0m           \u001b[39m\"\u001b[39m\u001b[39mnon-zero flags not allowed in calls to recv_into() on \u001b[39m\u001b[39m%s\u001b[39;00m\u001b[39m\"\u001b[39m \u001b[39m%\u001b[39m\n\u001b[1;32m   1277\u001b[0m           \u001b[39mself\u001b[39m\u001b[39m.\u001b[39m\u001b[39m__class__\u001b[39m)\n\u001b[0;32m-> 1278\u001b[0m     \u001b[39mreturn\u001b[39;00m \u001b[39mself\u001b[39;49m\u001b[39m.\u001b[39;49mread(nbytes, buffer)\n\u001b[1;32m   1279\u001b[0m \u001b[39melse\u001b[39;00m:\n\u001b[1;32m   1280\u001b[0m     \u001b[39mreturn\u001b[39;00m \u001b[39msuper\u001b[39m()\u001b[39m.\u001b[39mrecv_into(buffer, nbytes, flags)\n",
      "File \u001b[0;32m~/miniconda3/lib/python3.11/ssl.py:1134\u001b[0m, in \u001b[0;36mSSLSocket.read\u001b[0;34m(self, len, buffer)\u001b[0m\n\u001b[1;32m   1132\u001b[0m \u001b[39mtry\u001b[39;00m:\n\u001b[1;32m   1133\u001b[0m     \u001b[39mif\u001b[39;00m buffer \u001b[39mis\u001b[39;00m \u001b[39mnot\u001b[39;00m \u001b[39mNone\u001b[39;00m:\n\u001b[0;32m-> 1134\u001b[0m         \u001b[39mreturn\u001b[39;00m \u001b[39mself\u001b[39;49m\u001b[39m.\u001b[39;49m_sslobj\u001b[39m.\u001b[39;49mread(\u001b[39mlen\u001b[39;49m, buffer)\n\u001b[1;32m   1135\u001b[0m     \u001b[39melse\u001b[39;00m:\n\u001b[1;32m   1136\u001b[0m         \u001b[39mreturn\u001b[39;00m \u001b[39mself\u001b[39m\u001b[39m.\u001b[39m_sslobj\u001b[39m.\u001b[39mread(\u001b[39mlen\u001b[39m)\n",
      "\u001b[0;31mKeyboardInterrupt\u001b[0m: "
     ]
    }
   ],
   "source": [
    "import time\n",
    "import random\n",
    "\n",
    "finished = False\n",
    "\n",
    "while not finished:\n",
    "    time.sleep(random.randint(5, 10))\n",
    "    workflow_status_response = workflow_operation.get_workflow_status(\n",
    "        show_internal_steps=False,\n",
    "        workflow_id=process_document_response.workflow_id,\n",
    "        workflow_run_id=process_document_response.run_id,\n",
    "    )\n",
    "    current_status = workflow_status_response.status\n",
    "    print(f\"Processing status: {current_status}\")\n",
    "    if current_status in [\"success\", \"failed\"]:\n",
    "        finished = True\n",
    "\n",
    "pprint(workflow_status_response.model_dump())"
   ]
  },
  {
   "cell_type": "markdown",
   "metadata": {},
   "source": [
    "##### Form processing can be run only after `process_document` workflow has finished"
   ]
  },
  {
   "cell_type": "markdown",
   "metadata": {},
   "source": [
    "##### First we need to create a form definition to be able to run form extraction"
   ]
  },
  {
   "cell_type": "markdown",
   "metadata": {},
   "source": [
    "#### Creating form definition"
   ]
  },
  {
   "cell_type": "code",
   "execution_count": 10,
   "metadata": {},
   "outputs": [],
   "source": [
    "from weavaidev import forms as form_operation\n",
    "from weavaidev.documents.models import CreateFormRequest\n",
    "\n",
    "fields_data = [\n",
    "    {\n",
    "        \"name\": \"Total Sales\",\n",
    "        \"field_type\": \"Number\",\n",
    "        \"description\": \"Net Sales for the quarter\",\n",
    "        \"is_array\": True,\n",
    "        \"fill_by_search\": False,\n",
    "    }\n",
    "]\n",
    "body = CreateFormRequest(\n",
    "    name=\"APPLE FORM DEFINITION 2\",\n",
    "    description=\"Apple form definition 2\",\n",
    "    category=document_category,\n",
    "    fields=fields_data,\n",
    "    is_shared=True,\n",
    "    is_searchable=True,\n",
    ")\n",
    "form_create_response = form_operation.create_form(form_data=body)"
   ]
  },
  {
   "cell_type": "code",
   "execution_count": 11,
   "metadata": {},
   "outputs": [
    {
     "name": "stdout",
     "output_type": "stream",
     "text": [
      "Form ID: 6711d89aec09d6e1f477c3f8\n"
     ]
    }
   ],
   "source": [
    "print(f\"Form ID: {form_create_response.id}\")\n",
    "\n",
    "form_id = form_create_response.id"
   ]
  },
  {
   "cell_type": "markdown",
   "metadata": {},
   "source": [
    "#### Process form workflow"
   ]
  },
  {
   "cell_type": "code",
   "execution_count": 12,
   "metadata": {},
   "outputs": [
    {
     "name": "stdout",
     "output_type": "stream",
     "text": [
      "RUNNING 'process_form_workflow' WORKFLOW\n",
      "{'created_at': '2024-10-18T03:40:29.000000+00:00',\n",
      " 'document_id': '6711d5a67212c1ec5f894923',\n",
      " 'document_name': 'AAPL_10Q.pdf',\n",
      " 'end_date': None,\n",
      " 'in_folders': [],\n",
      " 'run_id': '6711d5a67212c1ec5f894923_a3bf03dc-45ab-44b9-9316-7b50d0541b85',\n",
      " 'start_date': None,\n",
      " 'state': None,\n",
      " 'workflow_id': 'process_form_workflow'}\n",
      "FORM EXTRACTION RUN ID: 6711d5a67212c1ec5f894923_a3bf03dc-45ab-44b9-9316-7b50d0541b85\n"
     ]
    }
   ],
   "source": [
    "print(\"RUNNING 'process_form_workflow' WORKFLOW\")\n",
    "\n",
    "\n",
    "process_form_response = workflow_operation.run_workflow(\n",
    "    workflow_name=\"process_form_workflow\", doc_id=document_id, data={\"form_id\": form_id}\n",
    ")\n",
    "\n",
    "pprint(process_form_response.model_dump())\n",
    "\n",
    "print(f\"FORM EXTRACTION RUN ID: {process_form_response.run_id}\")\n",
    "\n",
    "workflow_id = process_form_response.workflow_id\n",
    "run_id = process_form_response.run_id"
   ]
  },
  {
   "cell_type": "markdown",
   "metadata": {},
   "source": [
    "\n",
    "### Get workflow status"
   ]
  },
  {
   "cell_type": "code",
   "execution_count": 25,
   "metadata": {},
   "outputs": [
    {
     "name": "stdout",
     "output_type": "stream",
     "text": [
      "Processing status: success\n",
      "{'document_id': '66fe5c58b1d0dfb13c9975f3',\n",
      " 'end_date': datetime.datetime(2024, 10, 3, 9, 26, 42, 419716, tzinfo=TzInfo(UTC)),\n",
      " 'start_date': datetime.datetime(2024, 10, 3, 9, 25, 46, 190941, tzinfo=TzInfo(UTC)),\n",
      " 'status': 'success',\n",
      " 'tasks': [{'end_date': datetime.datetime(2024, 10, 3, 9, 26, 35, 407564, tzinfo=TzInfo(UTC)),\n",
      "            'failed_task_ids': [],\n",
      "            'name': 'extract_form_values_normal',\n",
      "            'start_date': datetime.datetime(2024, 10, 3, 9, 26, 16, 324496, tzinfo=TzInfo(UTC)),\n",
      "            'status': 'success',\n",
      "            'task_status_summary': {'failed': 0,\n",
      "                                    'queued': 0,\n",
      "                                    'running': 0,\n",
      "                                    'skipped': 0,\n",
      "                                    'success': 1}},\n",
      "           {'end_date': datetime.datetime(2024, 10, 3, 9, 25, 48, 124827, tzinfo=TzInfo(UTC)),\n",
      "            'failed_task_ids': [],\n",
      "            'name': 'set_processing_to_in_state',\n",
      "            'start_date': datetime.datetime(2024, 10, 3, 9, 25, 47, 502817, tzinfo=TzInfo(UTC)),\n",
      "            'status': 'success',\n",
      "            'task_status_summary': {'failed': 0,\n",
      "                                    'queued': 0,\n",
      "                                    'running': 0,\n",
      "                                    'skipped': 0,\n",
      "                                    'success': 1}},\n",
      "           {'end_date': datetime.datetime(2024, 10, 3, 9, 26, 38, 228682, tzinfo=TzInfo(UTC)),\n",
      "            'failed_task_ids': [],\n",
      "            'name': 'set_processing_to_failed_state',\n",
      "            'start_date': datetime.datetime(2024, 10, 3, 9, 26, 38, 228682, tzinfo=TzInfo(UTC)),\n",
      "            'status': 'skipped',\n",
      "            'task_status_summary': {'failed': 0,\n",
      "                                    'queued': 0,\n",
      "                                    'running': 0,\n",
      "                                    'skipped': 1,\n",
      "                                    'success': 0}},\n",
      "           {'end_date': datetime.datetime(2024, 10, 3, 9, 25, 50, 312581, tzinfo=TzInfo(UTC)),\n",
      "            'failed_task_ids': [],\n",
      "            'name': 'extract_by_search',\n",
      "            'start_date': datetime.datetime(2024, 10, 3, 9, 25, 49, 802197, tzinfo=TzInfo(UTC)),\n",
      "            'status': 'success',\n",
      "            'task_status_summary': {'failed': 0,\n",
      "                                    'queued': 0,\n",
      "                                    'running': 0,\n",
      "                                    'skipped': 0,\n",
      "                                    'success': 1}},\n",
      "           {'end_date': datetime.datetime(2024, 10, 3, 9, 25, 48, 114378, tzinfo=TzInfo(UTC)),\n",
      "            'failed_task_ids': [],\n",
      "            'name': 'get_document',\n",
      "            'start_date': datetime.datetime(2024, 10, 3, 9, 25, 47, 380406, tzinfo=TzInfo(UTC)),\n",
      "            'status': 'success',\n",
      "            'task_status_summary': {'failed': 0,\n",
      "                                    'queued': 0,\n",
      "                                    'running': 0,\n",
      "                                    'skipped': 0,\n",
      "                                    'success': 1}},\n",
      "           {'end_date': datetime.datetime(2024, 10, 3, 9, 26, 39, 874377, tzinfo=TzInfo(UTC)),\n",
      "            'failed_task_ids': [],\n",
      "            'name': 'set_processing_to_in_state__1',\n",
      "            'start_date': datetime.datetime(2024, 10, 3, 9, 26, 39, 467305, tzinfo=TzInfo(UTC)),\n",
      "            'status': 'success',\n",
      "            'task_status_summary': {'failed': 0,\n",
      "                                    'queued': 0,\n",
      "                                    'running': 0,\n",
      "                                    'skipped': 0,\n",
      "                                    'success': 1}},\n",
      "           {'end_date': datetime.datetime(2024, 10, 3, 9, 26, 41, 527506, tzinfo=TzInfo(UTC)),\n",
      "            'failed_task_ids': [],\n",
      "            'name': 'run_next_workflow',\n",
      "            'start_date': datetime.datetime(2024, 10, 3, 9, 26, 41, 113271, tzinfo=TzInfo(UTC)),\n",
      "            'status': 'skipped',\n",
      "            'task_status_summary': {'failed': 0,\n",
      "                                    'queued': 0,\n",
      "                                    'running': 0,\n",
      "                                    'skipped': 1,\n",
      "                                    'success': 0}},\n",
      "           {'end_date': datetime.datetime(2024, 10, 3, 9, 26, 37, 516030, tzinfo=TzInfo(UTC)),\n",
      "            'failed_task_ids': [],\n",
      "            'name': 'update_doc',\n",
      "            'start_date': datetime.datetime(2024, 10, 3, 9, 26, 36, 861990, tzinfo=TzInfo(UTC)),\n",
      "            'status': 'success',\n",
      "            'task_status_summary': {'failed': 0,\n",
      "                                    'queued': 0,\n",
      "                                    'running': 0,\n",
      "                                    'skipped': 0,\n",
      "                                    'success': 1}},\n",
      "           {'end_date': datetime.datetime(2024, 10, 3, 9, 26, 33, 187002, tzinfo=TzInfo(UTC)),\n",
      "            'failed_task_ids': [],\n",
      "            'name': 'extract_form_values_list',\n",
      "            'start_date': datetime.datetime(2024, 10, 3, 9, 26, 14, 235388, tzinfo=TzInfo(UTC)),\n",
      "            'status': 'success',\n",
      "            'task_status_summary': {'failed': 0,\n",
      "                                    'queued': 0,\n",
      "                                    'running': 0,\n",
      "                                    'skipped': 0,\n",
      "                                    'success': 25}}]}\n"
     ]
    }
   ],
   "source": [
    "import time\n",
    "import random\n",
    "\n",
    "finished = False\n",
    "\n",
    "while not finished:\n",
    "    time.sleep(random.randint(5, 10))\n",
    "    workflow_status_response = workflow_operation.get_workflow_status(\n",
    "        show_internal_steps=False,\n",
    "        workflow_id=workflow_id,\n",
    "        workflow_run_id=run_id,\n",
    "    )\n",
    "    current_status = workflow_status_response.status\n",
    "    print(f\"Processing status: {current_status}\")\n",
    "    if current_status in [\"success\", \"failed\"]:\n",
    "        finished = True\n",
    "\n",
    "pprint(workflow_status_response.model_dump())"
   ]
  },
  {
   "cell_type": "markdown",
   "metadata": {},
   "source": [
    "### Get single workflow"
   ]
  },
  {
   "cell_type": "code",
   "execution_count": 13,
   "metadata": {},
   "outputs": [
    {
     "name": "stderr",
     "output_type": "stream",
     "text": [
      "\u001b[32m2024-10-17 20:40:39.028\u001b[0m | \u001b[1mINFO    \u001b[0m | \u001b[36mweavaidev.workflows.service\u001b[0m:\u001b[36mget_single_workflow\u001b[0m:\u001b[36m58\u001b[0m - \u001b[1m200\u001b[0m\n"
     ]
    },
    {
     "name": "stdout",
     "output_type": "stream",
     "text": [
      "{'name': 'process_form_workflow',\n",
      " 'params': [],\n",
      " 'tasks': [{'downstream_tasks': ['extract_form_values_list',\n",
      "                                 'extract_form_values_normal'],\n",
      "            'is_active': True,\n",
      "            'name': 'get_document'},\n",
      "           {'downstream_tasks': ['update_doc'],\n",
      "            'is_active': True,\n",
      "            'name': 'extract_by_search'},\n",
      "           {'downstream_tasks': ['update_doc'],\n",
      "            'is_active': True,\n",
      "            'name': 'extract_form_values_list'},\n",
      "           {'downstream_tasks': ['update_doc'],\n",
      "            'is_active': True,\n",
      "            'name': 'extract_form_values_normal'},\n",
      "           {'downstream_tasks': ['set_processing_to_failed_state',\n",
      "                                 'set_processing_to_in_state__1'],\n",
      "            'is_active': True,\n",
      "            'name': 'update_doc'},\n",
      "           {'downstream_tasks': [],\n",
      "            'is_active': True,\n",
      "            'name': 'run_next_workflow'},\n",
      "           {'downstream_tasks': ['run_next_workflow'],\n",
      "            'is_active': True,\n",
      "            'name': 'set_processing_to_failed_state'},\n",
      "           {'downstream_tasks': ['extract_form_values_list',\n",
      "                                 'extract_form_values_normal',\n",
      "                                 'extract_by_search'],\n",
      "            'is_active': True,\n",
      "            'name': 'set_processing_to_in_state'},\n",
      "           {'downstream_tasks': ['run_next_workflow'],\n",
      "            'is_active': True,\n",
      "            'name': 'set_processing_to_in_state__1'}]}\n"
     ]
    }
   ],
   "source": [
    "single_workflow_response = workflow_operation.get_single_workflow(\n",
    "    show_internal_steps=False,\n",
    "    workflow_name=\"process_form_workflow\",\n",
    ")\n",
    "pprint(single_workflow_response.model_dump())"
   ]
  },
  {
   "cell_type": "markdown",
   "metadata": {},
   "source": [
    "### Rerun failed workflow (Optional)"
   ]
  },
  {
   "cell_type": "code",
   "execution_count": null,
   "metadata": {},
   "outputs": [
    {
     "name": "stdout",
     "output_type": "stream",
     "text": [
      "{'created_at': '2024-10-03T04:01:26.000000+00:00',\n",
      " 'document_id': '66fe11c5927ce8c0ebda42a3',\n",
      " 'document_name': 'MCS-CS-Handbook-2022-2023Publish.pdf',\n",
      " 'end_date': None,\n",
      " 'in_folders': [],\n",
      " 'run_id': '66fe11c5927ce8c0ebda42a3_c0d7d1fd-70be-4aba-a2bf-1bc1b960392c',\n",
      " 'start_date': None,\n",
      " 'state': None,\n",
      " 'workflow_id': 'process_form_workflow'}\n"
     ]
    }
   ],
   "source": [
    "rerun_workflow = workflow_operation.rerun_workflow(\n",
    "    workflow_name=\"process_form_workflow\", data=running_workflow_data\n",
    ")\n",
    "pprint(rerun_workflow.model_dump())"
   ]
  },
  {
   "cell_type": "code",
   "execution_count": null,
   "metadata": {},
   "outputs": [
    {
     "name": "stdout",
     "output_type": "stream",
     "text": [
      "{'document_id': '66fe11c5927ce8c0ebda42a3',\n",
      " 'end_date': None,\n",
      " 'start_date': datetime.datetime(2024, 10, 3, 3, 58, 9, 22120, tzinfo=TzInfo(UTC)),\n",
      " 'status': 'running',\n",
      " 'tasks': [{'end_date': datetime.datetime(2024, 10, 3, 3, 58, 58, 918824, tzinfo=TzInfo(UTC)),\n",
      "            'failed_task_ids': [-1],\n",
      "            'name': 'set_processing_to_in_state__1',\n",
      "            'start_date': datetime.datetime(2024, 10, 3, 3, 58, 58, 918824, tzinfo=TzInfo(UTC)),\n",
      "            'status': 'failed',\n",
      "            'task_status_summary': {'failed': 1,\n",
      "                                    'queued': 0,\n",
      "                                    'running': 0,\n",
      "                                    'skipped': 0,\n",
      "                                    'success': 0}},\n",
      "           {'end_date': None,\n",
      "            'failed_task_ids': [],\n",
      "            'name': 'extract_form_values_list',\n",
      "            'start_date': None,\n",
      "            'status': 'queued',\n",
      "            'task_status_summary': {'failed': 0,\n",
      "                                    'queued': 20,\n",
      "                                    'running': 0,\n",
      "                                    'skipped': 0,\n",
      "                                    'success': 0}},\n",
      "           {'end_date': datetime.datetime(2024, 10, 3, 3, 58, 56, 64568, tzinfo=TzInfo(UTC)),\n",
      "            'failed_task_ids': [-1],\n",
      "            'name': 'extract_by_search',\n",
      "            'start_date': datetime.datetime(2024, 10, 3, 3, 58, 50, 242005, tzinfo=TzInfo(UTC)),\n",
      "            'status': 'failed',\n",
      "            'task_status_summary': {'failed': 1,\n",
      "                                    'queued': 0,\n",
      "                                    'running': 0,\n",
      "                                    'skipped': 0,\n",
      "                                    'success': 0}},\n",
      "           {'end_date': None,\n",
      "            'failed_task_ids': [],\n",
      "            'name': 'set_processing_to_failed_state',\n",
      "            'start_date': None,\n",
      "            'status': 'queued',\n",
      "            'task_status_summary': {'failed': 0,\n",
      "                                    'queued': 1,\n",
      "                                    'running': 0,\n",
      "                                    'skipped': 0,\n",
      "                                    'success': 0}},\n",
      "           {'end_date': datetime.datetime(2024, 10, 3, 3, 58, 37, 197120, tzinfo=TzInfo(UTC)),\n",
      "            'failed_task_ids': [],\n",
      "            'name': 'set_processing_to_in_state',\n",
      "            'start_date': datetime.datetime(2024, 10, 3, 3, 58, 30, 201265, tzinfo=TzInfo(UTC)),\n",
      "            'status': 'success',\n",
      "            'task_status_summary': {'failed': 0,\n",
      "                                    'queued': 0,\n",
      "                                    'running': 0,\n",
      "                                    'skipped': 0,\n",
      "                                    'success': 1}},\n",
      "           {'end_date': datetime.datetime(2024, 10, 3, 3, 58, 57, 698016, tzinfo=TzInfo(UTC)),\n",
      "            'failed_task_ids': [-1],\n",
      "            'name': 'update_doc',\n",
      "            'start_date': datetime.datetime(2024, 10, 3, 3, 58, 57, 698016, tzinfo=TzInfo(UTC)),\n",
      "            'status': 'failed',\n",
      "            'task_status_summary': {'failed': 1,\n",
      "                                    'queued': 0,\n",
      "                                    'running': 0,\n",
      "                                    'skipped': 0,\n",
      "                                    'success': 0}},\n",
      "           {'end_date': datetime.datetime(2024, 10, 3, 3, 58, 26, 702480, tzinfo=TzInfo(UTC)),\n",
      "            'failed_task_ids': [],\n",
      "            'name': 'get_document',\n",
      "            'start_date': datetime.datetime(2024, 10, 3, 3, 58, 21, 139842, tzinfo=TzInfo(UTC)),\n",
      "            'status': 'success',\n",
      "            'task_status_summary': {'failed': 0,\n",
      "                                    'queued': 0,\n",
      "                                    'running': 0,\n",
      "                                    'skipped': 0,\n",
      "                                    'success': 1}},\n",
      "           {'end_date': None,\n",
      "            'failed_task_ids': [],\n",
      "            'name': 'extract_form_values_normal',\n",
      "            'start_date': None,\n",
      "            'status': 'queued',\n",
      "            'task_status_summary': {'failed': 0,\n",
      "                                    'queued': 1,\n",
      "                                    'running': 0,\n",
      "                                    'skipped': 0,\n",
      "                                    'success': 0}},\n",
      "           {'end_date': datetime.datetime(2024, 10, 3, 3, 58, 59, 72873, tzinfo=TzInfo(UTC)),\n",
      "            'failed_task_ids': [-1],\n",
      "            'name': 'run_next_workflow',\n",
      "            'start_date': datetime.datetime(2024, 10, 3, 3, 58, 59, 72873, tzinfo=TzInfo(UTC)),\n",
      "            'status': 'failed',\n",
      "            'task_status_summary': {'failed': 1,\n",
      "                                    'queued': 0,\n",
      "                                    'running': 0,\n",
      "                                    'skipped': 0,\n",
      "                                    'success': 0}}]}\n"
     ]
    }
   ],
   "source": [
    "workflow_status_response = workflow_operation.get_workflow_status(\n",
    "    show_internal_steps=False,\n",
    "    workflow_id=rerun_workflow.workflow_id,\n",
    "    workflow_run_id=rerun_workflow.run_id,\n",
    ")\n",
    "pprint(workflow_status_response.model_dump())"
   ]
  },
  {
   "cell_type": "markdown",
   "metadata": {},
   "source": [
    "### Get form"
   ]
  },
  {
   "cell_type": "code",
   "execution_count": 14,
   "metadata": {},
   "outputs": [
    {
     "name": "stdout",
     "output_type": "stream",
     "text": [
      "{'form_instances': [], 'total': 0}\n"
     ]
    }
   ],
   "source": [
    "from weavaidev import forms as form_operation\n",
    "from weavaidev.documents.models import FilterFormInstanceRequest\n",
    "\n",
    "\n",
    "body = FilterFormInstanceRequest(\n",
    "    scope=\"all_documents\",\n",
    "    doc_id=document_id,\n",
    ")\n",
    "\n",
    "form_create_response = form_operation.filter_form_instances(form_data=body).model_dump()\n",
    "\n",
    "pprint(form_create_response)"
   ]
  },
  {
   "cell_type": "code",
   "execution_count": 28,
   "metadata": {},
   "outputs": [
    {
     "data": {
      "text/plain": [
       "'66fe234870dd6d497d9b8ba5'"
      ]
     },
     "execution_count": 28,
     "metadata": {},
     "output_type": "execute_result"
    }
   ],
   "source": [
    "form_id = form_create_response[\"form_instances\"][0][\"form_id\"]\n",
    "form_id"
   ]
  },
  {
   "cell_type": "markdown",
   "metadata": {},
   "source": [
    "### View form definition"
   ]
  },
  {
   "cell_type": "code",
   "execution_count": 15,
   "metadata": {},
   "outputs": [
    {
     "name": "stdout",
     "output_type": "stream",
     "text": [
      "{'category': '',\n",
      " 'created_at': '2024-10-18T03:40:10Z',\n",
      " 'description': 'Apple form definition 2',\n",
      " 'fields': [{'description': 'Net Sales for the quarter',\n",
      "             'field_type': 'Number',\n",
      "             'fill_by_search': False,\n",
      "             'is_array': True,\n",
      "             'name': 'Total Sales'}],\n",
      " 'id': '6711d89aec09d6e1f477c3f8',\n",
      " 'is_searchable': True,\n",
      " 'is_shared': True,\n",
      " 'name': 'APPLE FORM DEFINITION 2',\n",
      " 'user_id': 'google-oauth2|117349365869611297391'}\n"
     ]
    }
   ],
   "source": [
    "form_definition_response = form_operation.get_form_definition(form_id=form_id)\n",
    "pprint(form_definition_response.model_dump())"
   ]
  },
  {
   "cell_type": "code",
   "execution_count": null,
   "metadata": {},
   "outputs": [],
   "source": []
  }
 ],
 "metadata": {
  "kernelspec": {
   "display_name": ".venv",
   "language": "python",
   "name": "python3"
  },
  "language_info": {
   "codemirror_mode": {
    "name": "ipython",
    "version": 3
   },
   "file_extension": ".py",
   "mimetype": "text/x-python",
   "name": "python",
   "nbconvert_exporter": "python",
   "pygments_lexer": "ipython3",
   "version": "3.11.4"
  },
  "orig_nbformat": 4
 },
 "nbformat": 4,
 "nbformat_minor": 2
}
