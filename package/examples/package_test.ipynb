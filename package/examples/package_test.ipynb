{
 "cells": [
  {
   "cell_type": "code",
   "execution_count": 1,
   "metadata": {},
   "outputs": [
    {
     "name": "stdout",
     "output_type": "stream",
     "text": [
      "/Users/adityakotwal/Desktop/WEAV/weav-ai-dev/package/.env\n",
      "/Users/adityakotwal/Desktop/WEAV/weav-ai-dev/package/.env\n",
      "/Users/adityakotwal/Desktop/WEAV/weav-ai-dev/package/.env\n",
      "/Users/adityakotwal/Desktop/WEAV/weav-ai-dev/package/.env\n",
      "/Users/adityakotwal/Desktop/WEAV/weav-ai-dev/package/.env\n",
      "/Users/adityakotwal/Desktop/WEAV/weav-ai-dev/package/.env\n"
     ]
    }
   ],
   "source": [
    "from weavaidev import workflows"
   ]
  },
  {
   "cell_type": "code",
   "execution_count": 5,
   "metadata": {},
   "outputs": [
    {
     "name": "stdout",
     "output_type": "stream",
     "text": [
      "dagtasktest\n",
      "dagtest\n",
      "download_from_connector\n",
      "extract_form_and_compliance\n",
      "process_brain_document\n",
      "process_compliance_exclude_entity\n",
      "process_custom_queries\n",
      "process_document\n",
      "process_document_create_decision_tree\n",
      "process_document_multi_forms\n",
      "process_document_sensors\n",
      "process_document_summary_compliance\n",
      "process_document_summary_generation\n",
      "process_document_tabular_data\n",
      "process_form_data_cleanup\n",
      "process_form_workflow\n",
      "run_agent\n"
     ]
    }
   ],
   "source": [
    "all_workflows = workflows.get_all_workflows()\n",
    "\n",
    "for workflow in all_workflows.workflows:\n",
    "    print(workflow.name)"
   ]
  },
  {
   "cell_type": "code",
   "execution_count": 6,
   "metadata": {},
   "outputs": [
    {
     "name": "stderr",
     "output_type": "stream",
     "text": [
      "\u001b[32m2024-10-17 20:22:08.936\u001b[0m | \u001b[1mINFO    \u001b[0m | \u001b[36mweavaidev.workflows.service\u001b[0m:\u001b[36mget_single_workflow\u001b[0m:\u001b[36m58\u001b[0m - \u001b[1m200\u001b[0m\n"
     ]
    },
    {
     "data": {
      "text/plain": [
       "Workflow(name='dagtest', tasks=[Task(name='first', is_active=True, downstream_tasks=['second']), Task(name='only_if_failed', is_active=True, downstream_tasks=[]), Task(name='only_if_success', is_active=True, downstream_tasks=[]), Task(name='second', is_active=True, downstream_tasks=['third']), Task(name='third', is_active=True, downstream_tasks=['only_if_failed', 'only_if_success']), Task(name='split', is_active=True, downstream_tasks=['second', 'first', 'third'])], params=[])"
      ]
     },
     "execution_count": 6,
     "metadata": {},
     "output_type": "execute_result"
    }
   ],
   "source": [
    "single_workflow = workflows.get_single_workflow(workflow_name=\"dagtest\")\n",
    "single_workflow"
   ]
  },
  {
   "cell_type": "code",
   "execution_count": 7,
   "metadata": {},
   "outputs": [
    {
     "data": {
      "text/plain": [
       "CreateDocumentResponse(id='6711d463cb136c090ac5f13d', media_type='application/pdf', download_url='/doc-proc-service/local_store/google-oauth2|117349365869611297391/6711d463cb136c090ac5f13d/6711d463cb136c090ac5f13d', pages=[], status='NEW', file_name='AAPL_10Q.pdf', created_at=datetime.datetime(2024, 10, 18, 3, 22, 11, tzinfo=TzInfo(UTC)), size=654929, source='application', category='', summary='', redacted_summary='', summary_status='', step_status={'FORM_EXTRACTION': StepStatus(status='NOT_STARTED', modified_at=datetime.datetime(2024, 10, 18, 3, 22, 11, tzinfo=TzInfo(UTC)), error='', response={})}, in_folders=[], tags=[], ai_tags=[], user_id='google-oauth2|117349365869611297391', tenant_id='', form_instances=None)"
      ]
     },
     "execution_count": 7,
     "metadata": {},
     "output_type": "execute_result"
    }
   ],
   "source": [
    "from weavaidev import documents\n",
    "\n",
    "uploaded_document = documents.create_document(file_path=\"../AAPL_10Q.pdf\")\n",
    "uploaded_document"
   ]
  },
  {
   "cell_type": "code",
   "execution_count": 8,
   "metadata": {},
   "outputs": [],
   "source": [
    "document_id = uploaded_document.id"
   ]
  },
  {
   "cell_type": "code",
   "execution_count": 9,
   "metadata": {},
   "outputs": [
    {
     "name": "stdout",
     "output_type": "stream",
     "text": [
      "run_id='6711d463cb136c090ac5f13d_ec453fce-e3d3-4690-9f1f-076eb8a2d124' workflow_id='process_document' document_id='6711d463cb136c090ac5f13d' document_name='AAPL_10Q.pdf' in_folders=[] state=None start_date=None end_date=None created_at='2024-10-18T03:22:17.000000+00:00'\n"
     ]
    }
   ],
   "source": [
    "workflow_request = workflows.run_workflow(\n",
    "    workflow_name=\"process_document\", doc_id=document_id, data={}\n",
    ")\n",
    "print(workflow_request)"
   ]
  },
  {
   "cell_type": "code",
   "execution_count": 10,
   "metadata": {},
   "outputs": [
    {
     "data": {
      "text/plain": [
       "{'run_id': '6711d463cb136c090ac5f13d_ec453fce-e3d3-4690-9f1f-076eb8a2d124',\n",
       " 'workflow_id': 'process_document',\n",
       " 'document_id': '6711d463cb136c090ac5f13d',\n",
       " 'document_name': 'AAPL_10Q.pdf',\n",
       " 'in_folders': [],\n",
       " 'state': None,\n",
       " 'start_date': None,\n",
       " 'end_date': None,\n",
       " 'created_at': '2024-10-18T03:22:17.000000+00:00'}"
      ]
     },
     "execution_count": 10,
     "metadata": {},
     "output_type": "execute_result"
    }
   ],
   "source": [
    "workflow_request.__dict__"
   ]
  },
  {
   "cell_type": "code",
   "execution_count": 11,
   "metadata": {},
   "outputs": [
    {
     "name": "stdout",
     "output_type": "stream",
     "text": [
      "status='running' document_id='6711d463cb136c090ac5f13d' tasks=[Task(name='vectorize_page', task_status_summary=TaskStatusSummary(success=0, running=0, queued=1, failed=0, skipped=0), status='queued', failed_task_ids=[], start_date=None, end_date=None), Task(name='form_extraction', task_status_summary=TaskStatusSummary(success=0, running=0, queued=1, failed=0, skipped=0), status='queued', failed_task_ids=[], start_date=None, end_date=None), Task(name='entity_extraction_page', task_status_summary=TaskStatusSummary(success=0, running=0, queued=1, failed=0, skipped=0), status='queued', failed_task_ids=[], start_date=None, end_date=None), Task(name='run_next_workflow', task_status_summary=TaskStatusSummary(success=0, running=0, queued=1, failed=0, skipped=0), status='queued', failed_task_ids=[], start_date=None, end_date=None), Task(name='ocr_page', task_status_summary=TaskStatusSummary(success=0, running=0, queued=1, failed=0, skipped=0), status='queued', failed_task_ids=[], start_date=None, end_date=None), Task(name='classify_page', task_status_summary=TaskStatusSummary(success=0, running=0, queued=1, failed=0, skipped=0), status='queued', failed_task_ids=[], start_date=None, end_date=None)] start_date=datetime.datetime(2024, 10, 18, 3, 22, 17, 780427, tzinfo=TzInfo(UTC)) end_date=None\n"
     ]
    }
   ],
   "source": [
    "workflow_status = workflows.get_workflow_status(\n",
    "    workflow_id=workflow_request.workflow_id, workflow_run_id=workflow_request.run_id\n",
    ")\n",
    "print(workflow_status)"
   ]
  },
  {
   "cell_type": "code",
   "execution_count": 12,
   "metadata": {},
   "outputs": [
    {
     "data": {
      "text/plain": [
       "{'status': 'running',\n",
       " 'document_id': '6711d463cb136c090ac5f13d',\n",
       " 'tasks': [Task(name='vectorize_page', task_status_summary=TaskStatusSummary(success=0, running=0, queued=1, failed=0, skipped=0), status='queued', failed_task_ids=[], start_date=None, end_date=None),\n",
       "  Task(name='form_extraction', task_status_summary=TaskStatusSummary(success=0, running=0, queued=1, failed=0, skipped=0), status='queued', failed_task_ids=[], start_date=None, end_date=None),\n",
       "  Task(name='entity_extraction_page', task_status_summary=TaskStatusSummary(success=0, running=0, queued=1, failed=0, skipped=0), status='queued', failed_task_ids=[], start_date=None, end_date=None),\n",
       "  Task(name='run_next_workflow', task_status_summary=TaskStatusSummary(success=0, running=0, queued=1, failed=0, skipped=0), status='queued', failed_task_ids=[], start_date=None, end_date=None),\n",
       "  Task(name='ocr_page', task_status_summary=TaskStatusSummary(success=0, running=0, queued=1, failed=0, skipped=0), status='queued', failed_task_ids=[], start_date=None, end_date=None),\n",
       "  Task(name='classify_page', task_status_summary=TaskStatusSummary(success=0, running=0, queued=1, failed=0, skipped=0), status='queued', failed_task_ids=[], start_date=None, end_date=None)],\n",
       " 'start_date': datetime.datetime(2024, 10, 18, 3, 22, 17, 780427, tzinfo=TzInfo(UTC)),\n",
       " 'end_date': None}"
      ]
     },
     "execution_count": 12,
     "metadata": {},
     "output_type": "execute_result"
    }
   ],
   "source": [
    "workflow_status.__dict__"
   ]
  },
  {
   "cell_type": "code",
   "execution_count": 13,
   "metadata": {},
   "outputs": [
    {
     "data": {
      "text/plain": [
       "DocumentWorkflowRunsResponse(docs=[], total=0)"
      ]
     },
     "execution_count": 13,
     "metadata": {},
     "output_type": "execute_result"
    }
   ],
   "source": [
    "workflow_runs_for_document = workflows.get_workflow_runs_for_document(\n",
    "    doc_id=document_id, state=\"success\"\n",
    ")\n",
    "workflow_runs_for_document"
   ]
  },
  {
   "cell_type": "code",
   "execution_count": 14,
   "metadata": {},
   "outputs": [
    {
     "data": {
      "text/plain": [
       "{'docs': [], 'total': 0}"
      ]
     },
     "execution_count": 14,
     "metadata": {},
     "output_type": "execute_result"
    }
   ],
   "source": [
    "workflow_runs_for_document.__dict__"
   ]
  },
  {
   "cell_type": "code",
   "execution_count": null,
   "metadata": {},
   "outputs": [],
   "source": []
  }
 ],
 "metadata": {
  "kernelspec": {
   "display_name": "myenv",
   "language": "python",
   "name": "python3"
  },
  "language_info": {
   "codemirror_mode": {
    "name": "ipython",
    "version": 3
   },
   "file_extension": ".py",
   "mimetype": "text/x-python",
   "name": "python",
   "nbconvert_exporter": "python",
   "pygments_lexer": "ipython3",
   "version": "3.11.4"
  },
  "orig_nbformat": 4
 },
 "nbformat": 4,
 "nbformat_minor": 2
}
